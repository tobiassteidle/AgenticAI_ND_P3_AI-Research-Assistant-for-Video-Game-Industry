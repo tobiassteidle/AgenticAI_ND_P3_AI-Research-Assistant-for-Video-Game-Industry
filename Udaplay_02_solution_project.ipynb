{
 "cells": [
  {
   "cell_type": "markdown",
   "id": "6fdd0bcb",
   "metadata": {},
   "source": [
    "# [Solution] Udaplay Project"
   ]
  },
  {
   "cell_type": "markdown",
   "id": "9325b035",
   "metadata": {},
   "source": [
    "## Part 02 - Agent\n",
    "\n",
    "In this part of the project, you'll use your VectorDB to be part of your Agent as a tool.\n",
    "\n",
    "You're building UdaPlay, an AI Research Agent for the video game industry. The agent will:\n",
    "1. Answer questions using internal knowledge (RAG)\n",
    "2. Search the web when needed\n",
    "3. Maintain conversation state\n",
    "4. Return structured outputs\n",
    "5. Store useful information for future use"
   ]
  },
  {
   "cell_type": "markdown",
   "id": "2b42de90",
   "metadata": {},
   "source": [
    "### Setup"
   ]
  },
  {
   "cell_type": "code",
   "execution_count": 1,
   "id": "a963d4ca",
   "metadata": {
    "ExecuteTime": {
     "end_time": "2025-07-13T19:17:18.851894Z",
     "start_time": "2025-07-13T19:17:18.842519Z"
    }
   },
   "outputs": [],
   "source": [
    "# Only needed for Udacity workspace\n",
    "\n",
    "import importlib.util\n",
    "import sys\n",
    "import pprint\n",
    "\n",
    "pp = pprint.PrettyPrinter(indent=4)\n",
    "\n",
    "# Check if 'pysqlite3' is available before importing\n",
    "if importlib.util.find_spec(\"pysqlite3\") is not None:\n",
    "    import pysqlite3\n",
    "    sys.modules['sqlite3'] = sys.modules.pop('pysqlite3')"
   ]
  },
  {
   "cell_type": "code",
   "execution_count": 2,
   "id": "9034a1dce6b1c760",
   "metadata": {},
   "outputs": [],
   "source": [
    "# TODO: Import the necessary libs\n",
    "# For example:\n",
    "import os\n",
    "\n",
    "from typing import List\n",
    "from dotenv import load_dotenv\n",
    "import chromadb\n",
    "from tavily import TavilyClient\n",
    "from lib.agents import Agent\n",
    "from lib.llm import LLM\n",
    "from lib.tooling import tool"
   ]
  },
  {
   "cell_type": "code",
   "execution_count": 3,
   "id": "ebac3cb15ba52dcc",
   "metadata": {},
   "outputs": [],
   "source": [
    "# TODO: Load environment variables\n",
    "load_dotenv()\n",
    "\n",
    "OPENAI_API_KEY = os.getenv(\"OPENAI_API_KEY\")\n",
    "TAVILY_API_KEY = os.getenv(\"TAVILY_API_KEY\")\n",
    "CHROMA_OPENAI_API_KEY = os.getenv(\"CHROMA_OPENAI_API_KEY\")"
   ]
  },
  {
   "cell_type": "markdown",
   "id": "38b450ae87e7c8d1",
   "metadata": {},
   "source": [
    "### Tools"
   ]
  },
  {
   "cell_type": "markdown",
   "id": "faa89a98503b8312",
   "metadata": {},
   "source": [
    "Build at least 3 tools:\n",
    "- retrieve_game: To search the vector DB\n",
    "- evaluate_retrieval: To assess the retrieval performance\n",
    "- game_web_search: If no good, search the web\n"
   ]
  },
  {
   "cell_type": "markdown",
   "id": "745684422de2d9ed",
   "metadata": {},
   "source": [
    "#### Retrieve Game Tool"
   ]
  },
  {
   "cell_type": "code",
   "execution_count": 4,
   "id": "3b4419f5093918f2",
   "metadata": {
    "ExecuteTime": {
     "end_time": "2025-07-13T19:17:25.687397Z",
     "start_time": "2025-07-13T19:17:23.412383Z"
    }
   },
   "outputs": [
    {
     "data": {
      "text/plain": [
       "[{'Platform': 'Nintendo Switch',\n",
       "  'Publisher': 'Nintendo',\n",
       "  'Name': 'Mario Kart 8 Deluxe',\n",
       "  'YearOfRelease': '2017',\n",
       "  'Description': 'An enhanced version of Mario Kart 8, featuring new characters, tracks, and improved gameplay mechanics.',\n",
       "  'Genre': 'Racing'},\n",
       " {'Platform': 'Wii',\n",
       "  'Publisher': 'Nintendo',\n",
       "  'Name': 'Wii Sports',\n",
       "  'YearOfRelease': '2006',\n",
       "  'Description': \"A collection of sports games that utilize the Wii's motion controls, bundled with the console to showcase its capabilities.\",\n",
       "  'Genre': 'Sports'},\n",
       " {'Platform': 'GameCube',\n",
       "  'Publisher': 'Nintendo',\n",
       "  'Name': 'Super Smash Bros. Melee',\n",
       "  'YearOfRelease': '2001',\n",
       "  'Description': 'A crossover fighting game featuring characters from various Nintendo franchises battling it out in dynamic arenas.',\n",
       "  'Genre': 'Fighting'}]"
      ]
     },
     "execution_count": 4,
     "metadata": {},
     "output_type": "execute_result"
    }
   ],
   "source": [
    "# TODO: Create retrieve_game tool\n",
    "# It should use chroma client and collection you created\n",
    "# chroma_client = chromadb.PersistentClient(path=\"chromadb\")\n",
    "# collection = chroma_client.get_collection(\"udaplay\")\n",
    "# Tool Docstring:\n",
    "#    Semantic search: Finds most results in the vector DB\n",
    "#    args:\n",
    "#    - query: a question about game industry.\n",
    "#\n",
    "#    You'll receive results as list. Each element contains:\n",
    "#    - Platform: like Game Boy, Playstation 5, Xbox 360...)\n",
    "#    - Name: Name of the Game\n",
    "#    - YearOfRelease: Year when that game was released for that platform\n",
    "#    - Description: Additional details about the game\n",
    "@tool(\n",
    "    name=\"retrieve_game\",\n",
    "    description=\"Retrieve game information from the vector database\",\n",
    ")\n",
    "def retrieve_game(query: str) -> List[dict]:\n",
    "    \"\"\"\n",
    "    Retrieve game information from the vector database based on the query.\n",
    "\n",
    "    Args:\n",
    "        query (str): A question about the game industry.\n",
    "\n",
    "    Returns:\n",
    "        List[dict]: A list of dictionaries containing game information.\n",
    "    \"\"\"\n",
    "    chroma_client = chromadb.PersistentClient(path=\"chromadb\")\n",
    "    collection = chroma_client.get_collection(\"udaplay\")\n",
    "\n",
    "    results = collection.query(\n",
    "        query_texts=[query],\n",
    "        n_results=3,\n",
    "        include=['documents']\n",
    "    )\n",
    "\n",
    "    # Extract relevant information from the results\n",
    "    games = []\n",
    "    for doc in results['documents'][0]:\n",
    "        game_info = {\n",
    "            \"Platform\": doc.split(\"Platform: [\")[1].split(\"]\")[0],\n",
    "            \"Publisher\": doc.split(\"Publisher: \")[1].split(\"\\n\")[0].strip(),\n",
    "            \"Name\": doc.split(\"Name: \")[1].split(\"Release Date:\")[0].strip(),\n",
    "            \"YearOfRelease\": doc.split(\"Release Date: (\")[1].split(\")\")[0],\n",
    "            \"Description\": doc.split(\"Description: \")[1].strip(),\n",
    "            \"Genre\": doc.split(\"Genre: \")[1].split(\"\\n\")[0].strip(),\n",
    "        }\n",
    "        games.append(game_info)\n",
    "\n",
    "    return games\n",
    "\n",
    "retrieve_game(\"What is a game for Nintendo Switch?\")  # Example usage"
   ]
  },
  {
   "cell_type": "markdown",
   "id": "910dc945",
   "metadata": {},
   "source": [
    "#### Evaluate Retrieval Tool"
   ]
  },
  {
   "cell_type": "code",
   "execution_count": 5,
   "id": "0d9d014b",
   "metadata": {
    "ExecuteTime": {
     "end_time": "2025-07-13T19:17:26.978425Z",
     "start_time": "2025-07-13T19:17:26.972450Z"
    }
   },
   "outputs": [],
   "source": [
    "# TODO: Create evaluate_retrieval tool\n",
    "# You might use an LLM as judge in this tool to evaluate the performance\n",
    "# You need to prompt that LLM with something like:\n",
    "# \"Your task is to evaluate if the documents are enough to respond the query. \"\n",
    "# \"Give a detailed explanation, so it's possible to take an action to accept it or not.\"\n",
    "# Use EvaluationReport to parse the result\n",
    "# Tool Docstring:\n",
    "#    Based on the user's question and on the list of retrieved documents,\n",
    "#    it will analyze the usability of the documents to respond to that question.\n",
    "#    args:\n",
    "#    - question: original question from user\n",
    "#    - retrieved_docs: retrieved documents most similar to the user query in the Vector Database\n",
    "#    The result includes:\n",
    "#    - useful: whether the documents are useful to answer the question\n",
    "#    - description: description about the evaluation result\n",
    "@tool(\n",
    "    name=\"evaluate_retrieval\",\n",
    "    description=\"Evaluate the usability of retrieved documents for answering a question\",\n",
    ")\n",
    "def evaluate_retrieval(question: str, retrieved_docs: List[str]) -> dict:\n",
    "    \"\"\"\n",
    "    Evaluate the usability of retrieved documents for answering a question.\n",
    "\n",
    "    Args:\n",
    "        question (str): The original question from the user.\n",
    "        retrieved_docs (List[str]): The list of retrieved documents most similar to the user query.\n",
    "\n",
    "    Returns:\n",
    "        dict: A dictionary containing evaluation results with keys 'useful' and 'description'.\n",
    "    \"\"\"\n",
    "    llm = LLM(model=\"gpt-4o-mini\", temperature=0.3)\n",
    "\n",
    "    prompt = (\n",
    "        \"Your task is to evaluate if the documents are enough to respond to the query. \"\n",
    "        \"Give a detailed explanation, so it's possible to take an action to accept it or not.\\n\\n\"\n",
    "        f\"Question: {question}\\n\\n\"\n",
    "        \"Retrieved Documents:\\n\" + \"\\n\".join(retrieved_docs) + \"\\n\\n\"\n",
    "        \"Evaluate if these documents are useful to answer the question.\"\n",
    "    )\n",
    "\n",
    "    response = llm.invoke(prompt)\n",
    "\n",
    "    # Assuming response is structured as follows:\n",
    "    # {\n",
    "    #     \"useful\": True/False,\n",
    "    #     \"description\": \"Detailed explanation of the evaluation\"\n",
    "    # }\n",
    "\n",
    "    return response"
   ]
  },
  {
   "cell_type": "markdown",
   "id": "c7935a26",
   "metadata": {},
   "source": [
    "#### Game Web Search Tool"
   ]
  },
  {
   "cell_type": "code",
   "execution_count": 6,
   "id": "a7351240792a8d1d",
   "metadata": {},
   "outputs": [
    {
     "data": {
      "text/plain": [
       "{'answer': 'Super Smash Bros. Ultimate and The Legend of Zelda: Breath of the Wild are popular Nintendo Switch games. Mario Kart 8 Deluxe is also highly popular.',\n",
       " 'results': [{'url': 'https://en.wikipedia.org/wiki/List_of_Nintendo_Switch_games',\n",
       "   'title': 'List of Nintendo Switch games - Wikipedia',\n",
       "   'content': 'The Nintendo Switch is a video game console developed by Nintendo, for which games are released both in physical and digital formats. Physical games are sold on cartridges that slot into the Switch console unit.( Digital games are purchased through the Nintendo eShop and stored either in the Switch\\'s internal 32 GB of storage (64 GB in the OLED version) or on a microSDXC card.( The Switch has no regional lockout features, freely allowing games from any region to be played on any system,( with [...] | Oculus |  Oculus Rift  Oculus Quest |\\n| Sega |  Arcade  SG-1000  Master System  Genesis  Sega CD  32X  Game Gear  Pico  Saturn  Dreamcast  VMU |\\n| SNK |  Neo Geo  Neo Geo Pocket  Color  Hyper Neo Geo 64 | [...] | show  v  t  e Nintendo Switch |\\n| --- |\\n| Hardware |  Nintendo Game Card  Joy-Con  Pro Controller  Amiibo  Nintendo Labo  Poké Ball Plus |\\n| Services |  System software  Mii  Nintendo eShop  Switch Online  Nintendo Account  My Nintendo |\\n| Games |  0-A \"List of Nintendo Switch games (0–9 and A)\")  B \"List of Nintendo Switch games (B)\")  C–G \"List of Nintendo Switch games (C–G)\")  H–P \"List of Nintendo Switch games (H–P)\")  Q–Z \"List of Nintendo Switch games (Q–Z)\")  Best-selling  Classics |',\n",
       "   'score': 0.7166357,\n",
       "   'raw_content': None},\n",
       "  {'url': 'https://www.pcmag.com/picks/the-best-nintendo-switch-games-for-kids',\n",
       "   'title': 'The Best Nintendo Switch Games for Kids | PCMag',\n",
       "   'content': \"Table of Contents\\n   A Boy and His Blob\\n   Animal Crossing: New Horizons (for Nintendo Switch)\\n   Burnout Paradise Remastered\\n   Chicory: A Colorful Tale\\n   Crash Bandicoot 4: It's About Time\\n   Disney Epic Mickey Rebrushed\\n   Fortnite\\n   Fuze4 (for Nintendo Switch)\\n   Kirby's Return to Dreamland Deluxe\\n   Lego City Undercover\\n   Luigi’s Mansion 3\\n   Mario + Rabbids Sparks of Hope (for Nintendo Switch)\\n   Mario Kart 8 Deluxe (for Nintendo Switch) [...] Mario Kart Live: Home Circuit (for Nintendo Switch)\\n   Mario Party Superstars (for Nintendo Switch)\\n   Marvel Ultimate Alliance 3\\n   Mega Man Battle Network Legacy Collection\\n   Miitopia (for Nintendo Switch)\\n   Minecraft\\n   Minecraft Dungeons\\n   Mr. Driller DrillLand\\n   New Pokemon Snap (for Nintendo Switch)\\n   New Super Lucky’s Tale\\n   Nickelodeon All-Star Brawl (for Nintendo Switch)\\n   Ninjala\\n   Nintendo Labo VR Kit\\n   Nintendo Switch Sports [...] Super Mario 3D World + Bowser’s Fury (for Nintendo Switch)\\n   Super Mario Bros. Wonder\\n   Super Mario Maker 2 (for Nintendo Switch)\\n   Super Mario Odyssey (for Nintendo Switch)\\n   Super Mario RPG\\n   Super Smash Bros. Ultimate (for Nintendo Switch)\\n   WarioWare: Move It\\n   Yoshi’s Crafted World\\n   More Gaming Goodness\",\n",
       "   'score': 0.67706895,\n",
       "   'raw_content': None},\n",
       "  {'url': 'https://en.wikipedia.org/wiki/List_of_best-selling_Nintendo_Switch_video_games',\n",
       "   'title': 'List of best-selling Nintendo Switch video games - Wikipedia',\n",
       "   'content': '| _Super Smash Bros. Ultimate_ | 36.24 million( | March 31, 2025 | December 7, 2018 | Fighting |  Bandai Namco Studios  Sora Ltd. | Nintendo |\\n| _The Legend of Zelda: Breath of the Wild_ | 32.81 million( | March 31, 2025 | March 3, 2017 | Action-adventure | Nintendo EPD | Nintendo |\\n| _Super Mario Odyssey_ | 29.28 million( | March 31, 2025 | October 27, 2017 | Platformer | Nintendo EPD | Nintendo | [...] | show  v  t  e Nintendo Switch |\\n| --- |\\n| Hardware |  Nintendo Game Card  Joy-Con  Pro Controller  Amiibo  Nintendo Labo  Poké Ball Plus |\\n| Services |  System software  Mii  Nintendo eShop  Switch Online  Nintendo Account  My Nintendo | [...] | _Donkey Kong Country Returns HD_ | 1.27 million( | March 31, 2025 | January 16, 2025 | Platformer | Forever Entertainment | Nintendo |\\n| _Dr Kawashima\\'s Brain Training for Nintendo Switch_ | 1.27 million( | December 31, 2022 | December 27, 2019 | Puzzle | Nintendo EPD, indieszero | Nintendo |\\n| _Bayonetta \"Bayonetta (video game)\")_ | 1.24 million( | December 31, 2022 | February 16, 2018 |  Action-adventure  hack and slash | PlatinumGames | Nintendo |',\n",
       "   'score': 0.5820878,\n",
       "   'raw_content': None},\n",
       "  {'url': 'https://www.youtube.com/watch?v=OMCGDf_4tbQ',\n",
       "   'title': 'Ranking EVERY Nintendo Switch Game - YouTube',\n",
       "   'content': 'games that were made for the Switch and then there\\'s Hyrule Warriors Age of Calamity this is better in my opinion than the first Hyrule Warriors we run into the same issue as Fire Emblem Warriors where it\\'s just like I just like the cast of Fire Emblem more i\\'ll put it down here though it is a very good game super Mario 3 World and Bowser\\'s Fury i think Bowser\\'s Fury it\\'s kind of the same as Shadow Generations where I\\'m sure it was supposed to be released as its own thing but they were like \"We [...] put it right here I got to give it up for funky mode that\\'s hilarious then there\\'s Hyrule Warriors Definitive Edition like Tropical Freeze I never played the Switch version this feels a little hypocritical to put it down here fire Emblem Warriors and Hyrule Warriors are kind of the exact same game but the reason I have to put it lower is just cuz I like the Fire Emblem cast more oh and then we got Pokemon Quest the first mobile game port on the Switch the first of many i can confidently say [...] there\\'s Mario Kart Live Home Circuit i have absolutely no idea why this exists it\\'s pretty funny i made a fun video with it i think it\\'s fun for a day there\\'s part-time UFO this is not a H game cuz I have seen this i think it\\'s forgettable if you asked me on like a Sparkle quiz to name every Switch game this is not making the cut oh Pikmin 3 Deluxe can I skip ahead can I just grab Pikmin 1 and two cuz I saw that they\\'re also on here these are not Switch games i guess 3 Deluxe kind of is but not',\n",
       "   'score': 0.5573882,\n",
       "   'raw_content': None},\n",
       "  {'url': 'https://www.amazon.com/gp/new-releases/videogames/16227133011',\n",
       "   'title': 'The best-selling new & future releases in Nintendo Switch Games',\n",
       "   'content': \"9.   #8   Image 19: Tony Hawk's™ Pro Skater™ 3 + 4 – Standard Edition – Nintendo SwitchTony Hawk's™ Pro Skater™ 3 + 4 – Standard Edition – Nintendo SwitchXbox  Nintendo Switch  $49.94         Watch     \\n10.   #9   Image 20: RollerCoaster Tycoon® Classic - Nintendo SwitchRollerCoaster Tycoon® Classic - Nintendo SwitchAtari  _4.8 out of 5 stars_ 65  Nintendo Switch  $29.99         Watch\",\n",
       "   'score': 0.53021276,\n",
       "   'raw_content': None}]}"
      ]
     },
     "execution_count": 6,
     "metadata": {},
     "output_type": "execute_result"
    }
   ],
   "source": [
    "# TODO: Create game_web_search tool\n",
    "# Please use Tavily client to search the web\n",
    "# Tool Docstring:\n",
    "#    Semantic search: Finds most results in the vector DB\n",
    "#    args:\n",
    "#    - question: a question about game industry.\n",
    "@tool(\n",
    "    name=\"game_web_search\",\n",
    "    description=\"Search the web for game industry information\",\n",
    ")\n",
    "def game_web_search(question: str) -> List[dict]:\n",
    "    \"\"\"\n",
    "    Search the web for game industry information based on the question.\n",
    "\n",
    "    Args:\n",
    "        question (str): A question about the game industry.\n",
    "\n",
    "    Returns:\n",
    "        List[dict]: A list of dictionaries containing search results.\n",
    "    \"\"\"\n",
    "    tavily_client = TavilyClient(api_key=TAVILY_API_KEY)\n",
    "    results = tavily_client.search(\n",
    "        query=question,\n",
    "        search_depth=\"advanced\",\n",
    "        include_answer=True,\n",
    "        include_raw_content=False,\n",
    "        include_images=False\n",
    "    )\n",
    "\n",
    "    # Extract relevant information from the results\n",
    "    formatted_results = {\n",
    "        \"answer\": results.get(\"answer\", \"\"),\n",
    "        \"results\": results.get(\"results\", [])\n",
    "    }\n",
    "\n",
    "    return formatted_results\n",
    "\n",
    "game_web_search(\"What is the a game for Nintendo Switch?\")  # Example usage"
   ]
  },
  {
   "cell_type": "markdown",
   "id": "df844b3b",
   "metadata": {},
   "source": [
    "### Agent"
   ]
  },
  {
   "cell_type": "code",
   "execution_count": 7,
   "id": "90abcbaeaf38f547",
   "metadata": {},
   "outputs": [],
   "source": [
    "# TODO: Create your Agent abstraction using StateMachine\n",
    "# Equip with an appropriate model\n",
    "# Craft a good set of instructions\n",
    "# Plug all Tools you developed\n",
    "instructions=(\"\"\"\n",
    "    You are an AI Research Agent for the video game industry. \"\n",
    "    Your tasks include: \"\n",
    "    1) Answering questions using internal knowledge first. \"\n",
    "    2) Evaluating the sufficiency of this answer using the 'evaluate_retrieval' tool. \"\n",
    "    3) If the internal knowledge is insufficient, use the 'game_web_search' tool as a fallback. \"\n",
    "    4) You may use the 'retrieve_game' tool to fetch relevant documents from the vector database to support your answer. \"\n",
    "    \n",
    "    Provide the final answer based on the best available source.\"\n",
    "    Format your final output as follows:\n",
    "    \n",
    "    User question:\n",
    "    <user's question>\n",
    "    \n",
    "    Final answer:\n",
    "    <your full answer here>\"\n",
    "    \n",
    "    Sources:\n",
    "    - If based on local data, write: Local database\n",
    "    - If based on web search, provide full clickable URLs like: \n",
    "      [Wikipedia - GameName](https://...)\n",
    "\n",
    "    Tools used:\n",
    "    - If no tools used, skip this section\n",
    "    - If tools are used write them as bulletpoints e.g. \n",
    "      - evaluate_retrieval\n",
    "      - game_web_search\n",
    "      \n",
    "    Make sure the response is factual, clear, and well-formatted.\n",
    "    The final report must include your answer with citations (if any), and a list of tools used.\n",
    "    \"\"\"\n",
    ")\n",
    "\n",
    "\n",
    "agent = Agent(\n",
    "    model_name=\"gpt-4o-mini\",\n",
    "    tools=[retrieve_game, evaluate_retrieval, game_web_search],\n",
    "    instructions=instructions\n",
    ")"
   ]
  },
  {
   "cell_type": "markdown",
   "id": "e9907a6f-adac-48a2-a0f9-fb9e413077b8",
   "metadata": {},
   "source": [
    "#### Generate session_id to handle multiple queries in a session"
   ]
  },
  {
   "cell_type": "code",
   "execution_count": 8,
   "id": "069900b2-0a99-4063-8155-09325d3c9d7e",
   "metadata": {},
   "outputs": [
    {
     "name": "stdout",
     "output_type": "stream",
     "text": [
      "session_id = bb3ca895-89a7-4850-b9f0-ec3b43ea0e52\n"
     ]
    }
   ],
   "source": [
    "import uuid\n",
    "session_id = uuid.uuid4()\n",
    "print(f\"session_id = {session_id}\")"
   ]
  },
  {
   "cell_type": "markdown",
   "id": "d70600a0-6677-410f-9306-a90ad9736592",
   "metadata": {},
   "source": [
    "#### Invoke Agent"
   ]
  },
  {
   "cell_type": "code",
   "execution_count": 9,
   "id": "6f455b330a92977",
   "metadata": {},
   "outputs": [
    {
     "name": "stdout",
     "output_type": "stream",
     "text": [
      "[StateMachine] Starting: __entry__\n",
      "[StateMachine] Executing step: message_prep\n",
      "[StateMachine] Executing step: llm_processor\n",
      "[StateMachine] Terminating: __termination__\n",
      "User question:\n",
      "When was Pokémon Gold and Silver released?\n",
      "\n",
      "Final answer:\n",
      "Pokémon Gold and Silver were originally released in Japan on November 21, 1999. They were later released in North America on October 16, 2000, and in Europe on April 6, 2001.\n",
      "\n",
      "Sources:\n",
      "- Local database\n",
      "\n",
      "Tools used:\n",
      "- None\n"
     ]
    }
   ],
   "source": [
    "# TODO: Invoke your agent\n",
    "# - When Pokémon Gold and Silver was released?\n",
    "result = agent.invoke(\"When was Pokémon Gold and Silver released?\", session_id=session_id)\n",
    "print(result.get_final_state()[\"messages\"][-1].content)"
   ]
  },
  {
   "cell_type": "code",
   "execution_count": 10,
   "id": "9a6d7bc3-749c-47c9-9de3-d37b75eb099f",
   "metadata": {},
   "outputs": [
    {
     "name": "stdout",
     "output_type": "stream",
     "text": [
      "{   'current_tool_calls': None,\n",
      "    'instructions': '\\n'\n",
      "                    '    You are an AI Research Agent for the video game '\n",
      "                    'industry. \"\\n'\n",
      "                    '    Your tasks include: \"\\n'\n",
      "                    '    1) Answering questions using internal knowledge '\n",
      "                    'first. \"\\n'\n",
      "                    '    2) Evaluating the sufficiency of this answer using '\n",
      "                    'the \\'evaluate_retrieval\\' tool. \"\\n'\n",
      "                    '    3) If the internal knowledge is insufficient, use the '\n",
      "                    '\\'game_web_search\\' tool as a fallback. \"\\n'\n",
      "                    \"    4) You may use the 'retrieve_game' tool to fetch \"\n",
      "                    'relevant documents from the vector database to support '\n",
      "                    'your answer. \"\\n'\n",
      "                    '\\n'\n",
      "                    '    Provide the final answer based on the best available '\n",
      "                    'source.\"\\n'\n",
      "                    '    Format your final output as follows:\\n'\n",
      "                    '\\n'\n",
      "                    '    User question:\\n'\n",
      "                    \"    <user's question>\\n\"\n",
      "                    '\\n'\n",
      "                    '    Final answer:\\n'\n",
      "                    '    <your full answer here>\"\\n'\n",
      "                    '\\n'\n",
      "                    '    Sources:\\n'\n",
      "                    '    - If based on local data, write: Local database\\n'\n",
      "                    '    - If based on web search, provide full clickable URLs '\n",
      "                    'like: \\n'\n",
      "                    '      [Wikipedia - GameName](https://...)\\n'\n",
      "                    '\\n'\n",
      "                    '    Tools used:\\n'\n",
      "                    '    - If no tools used, skip this section\\n'\n",
      "                    '    - If tools are used write them as bulletpoints e.g. \\n'\n",
      "                    '      - evaluate_retrieval\\n'\n",
      "                    '      - game_web_search\\n'\n",
      "                    '\\n'\n",
      "                    '    Make sure the response is factual, clear, and '\n",
      "                    'well-formatted.\\n'\n",
      "                    '    The final report must include your answer with '\n",
      "                    'citations (if any), and a list of tools used.\\n'\n",
      "                    '    ',\n",
      "    'messages': [   SystemMessage(role='system', content='\\n    You are an AI Research Agent for the video game industry. \"\\n    Your tasks include: \"\\n    1) Answering questions using internal knowledge first. \"\\n    2) Evaluating the sufficiency of this answer using the \\'evaluate_retrieval\\' tool. \"\\n    3) If the internal knowledge is insufficient, use the \\'game_web_search\\' tool as a fallback. \"\\n    4) You may use the \\'retrieve_game\\' tool to fetch relevant documents from the vector database to support your answer. \"\\n\\n    Provide the final answer based on the best available source.\"\\n    Format your final output as follows:\\n\\n    User question:\\n    <user\\'s question>\\n\\n    Final answer:\\n    <your full answer here>\"\\n\\n    Sources:\\n    - If based on local data, write: Local database\\n    - If based on web search, provide full clickable URLs like: \\n      [Wikipedia - GameName](https://...)\\n\\n    Tools used:\\n    - If no tools used, skip this section\\n    - If tools are used write them as bulletpoints e.g. \\n      - evaluate_retrieval\\n      - game_web_search\\n\\n    Make sure the response is factual, clear, and well-formatted.\\n    The final report must include your answer with citations (if any), and a list of tools used.\\n    '),\n",
      "                    UserMessage(role='user', content='When was Pokémon Gold and Silver released?'),\n",
      "                    AIMessage(role='assistant', content='User question:\\nWhen was Pokémon Gold and Silver released?\\n\\nFinal answer:\\nPokémon Gold and Silver were originally released in Japan on November 21, 1999. They were later released in North America on October 16, 2000, and in Europe on April 6, 2001.\\n\\nSources:\\n- Local database\\n\\nTools used:\\n- None', tool_calls=None, token_usage=None)],\n",
      "    'session_id': UUID('bb3ca895-89a7-4850-b9f0-ec3b43ea0e52'),\n",
      "    'total_tokens': 453,\n",
      "    'user_query': 'When was Pokémon Gold and Silver released?'}\n"
     ]
    }
   ],
   "source": [
    "pp.pprint(result.get_final_state())"
   ]
  },
  {
   "cell_type": "code",
   "execution_count": 11,
   "id": "9b9aa8e7-95da-4bbc-9ab1-0442e418aa79",
   "metadata": {},
   "outputs": [
    {
     "name": "stdout",
     "output_type": "stream",
     "text": [
      "[StateMachine] Starting: __entry__\n",
      "[StateMachine] Executing step: message_prep\n",
      "[StateMachine] Executing step: llm_processor\n",
      "[StateMachine] Terminating: __termination__\n",
      "User question:\n",
      "Which one was the first 3D platformer Mario game?\n",
      "\n",
      "Final answer:\n",
      "The first 3D platformer Mario game is \"Super Mario 64,\" which was released for the Nintendo 64 on June 23, 1996, in Japan and later in North America on September 29, 1996. This game revolutionized the platforming genre by introducing a fully 3D environment, allowing players to explore and interact with the world in a way that was unprecedented at the time.\n",
      "\n",
      "Sources:\n",
      "- Local database\n",
      "\n",
      "Tools used:\n",
      "- None\n"
     ]
    }
   ],
   "source": [
    "# - Which one was the first 3D platformer Mario game?\n",
    "result = agent.invoke(\"Which one was the first 3D platformer Mario game?\", session_id=session_id)\n",
    "print(result.get_final_state()[\"messages\"][-1].content)"
   ]
  },
  {
   "cell_type": "code",
   "execution_count": 12,
   "id": "f849f909-13a3-4275-b1fb-2a2c676c5f5b",
   "metadata": {},
   "outputs": [
    {
     "name": "stdout",
     "output_type": "stream",
     "text": [
      "{   'current_tool_calls': None,\n",
      "    'instructions': '\\n'\n",
      "                    '    You are an AI Research Agent for the video game '\n",
      "                    'industry. \"\\n'\n",
      "                    '    Your tasks include: \"\\n'\n",
      "                    '    1) Answering questions using internal knowledge '\n",
      "                    'first. \"\\n'\n",
      "                    '    2) Evaluating the sufficiency of this answer using '\n",
      "                    'the \\'evaluate_retrieval\\' tool. \"\\n'\n",
      "                    '    3) If the internal knowledge is insufficient, use the '\n",
      "                    '\\'game_web_search\\' tool as a fallback. \"\\n'\n",
      "                    \"    4) You may use the 'retrieve_game' tool to fetch \"\n",
      "                    'relevant documents from the vector database to support '\n",
      "                    'your answer. \"\\n'\n",
      "                    '\\n'\n",
      "                    '    Provide the final answer based on the best available '\n",
      "                    'source.\"\\n'\n",
      "                    '    Format your final output as follows:\\n'\n",
      "                    '\\n'\n",
      "                    '    User question:\\n'\n",
      "                    \"    <user's question>\\n\"\n",
      "                    '\\n'\n",
      "                    '    Final answer:\\n'\n",
      "                    '    <your full answer here>\"\\n'\n",
      "                    '\\n'\n",
      "                    '    Sources:\\n'\n",
      "                    '    - If based on local data, write: Local database\\n'\n",
      "                    '    - If based on web search, provide full clickable URLs '\n",
      "                    'like: \\n'\n",
      "                    '      [Wikipedia - GameName](https://...)\\n'\n",
      "                    '\\n'\n",
      "                    '    Tools used:\\n'\n",
      "                    '    - If no tools used, skip this section\\n'\n",
      "                    '    - If tools are used write them as bulletpoints e.g. \\n'\n",
      "                    '      - evaluate_retrieval\\n'\n",
      "                    '      - game_web_search\\n'\n",
      "                    '\\n'\n",
      "                    '    Make sure the response is factual, clear, and '\n",
      "                    'well-formatted.\\n'\n",
      "                    '    The final report must include your answer with '\n",
      "                    'citations (if any), and a list of tools used.\\n'\n",
      "                    '    ',\n",
      "    'messages': [   SystemMessage(role='system', content='\\n    You are an AI Research Agent for the video game industry. \"\\n    Your tasks include: \"\\n    1) Answering questions using internal knowledge first. \"\\n    2) Evaluating the sufficiency of this answer using the \\'evaluate_retrieval\\' tool. \"\\n    3) If the internal knowledge is insufficient, use the \\'game_web_search\\' tool as a fallback. \"\\n    4) You may use the \\'retrieve_game\\' tool to fetch relevant documents from the vector database to support your answer. \"\\n\\n    Provide the final answer based on the best available source.\"\\n    Format your final output as follows:\\n\\n    User question:\\n    <user\\'s question>\\n\\n    Final answer:\\n    <your full answer here>\"\\n\\n    Sources:\\n    - If based on local data, write: Local database\\n    - If based on web search, provide full clickable URLs like: \\n      [Wikipedia - GameName](https://...)\\n\\n    Tools used:\\n    - If no tools used, skip this section\\n    - If tools are used write them as bulletpoints e.g. \\n      - evaluate_retrieval\\n      - game_web_search\\n\\n    Make sure the response is factual, clear, and well-formatted.\\n    The final report must include your answer with citations (if any), and a list of tools used.\\n    '),\n",
      "                    UserMessage(role='user', content='When was Pokémon Gold and Silver released?'),\n",
      "                    AIMessage(role='assistant', content='User question:\\nWhen was Pokémon Gold and Silver released?\\n\\nFinal answer:\\nPokémon Gold and Silver were originally released in Japan on November 21, 1999. They were later released in North America on October 16, 2000, and in Europe on April 6, 2001.\\n\\nSources:\\n- Local database\\n\\nTools used:\\n- None', tool_calls=None, token_usage=None),\n",
      "                    UserMessage(role='user', content='Which one was the first 3D platformer Mario game?'),\n",
      "                    AIMessage(role='assistant', content='User question:\\nWhich one was the first 3D platformer Mario game?\\n\\nFinal answer:\\nThe first 3D platformer Mario game is \"Super Mario 64,\" which was released for the Nintendo 64 on June 23, 1996, in Japan and later in North America on September 29, 1996. This game revolutionized the platforming genre by introducing a fully 3D environment, allowing players to explore and interact with the world in a way that was unprecedented at the time.\\n\\nSources:\\n- Local database\\n\\nTools used:\\n- None', tool_calls=None, token_usage=None)],\n",
      "    'session_id': UUID('bb3ca895-89a7-4850-b9f0-ec3b43ea0e52'),\n",
      "    'total_tokens': 589,\n",
      "    'user_query': 'Which one was the first 3D platformer Mario game?'}\n"
     ]
    }
   ],
   "source": [
    "pp.pprint(result.get_final_state())"
   ]
  },
  {
   "cell_type": "code",
   "execution_count": 13,
   "id": "f55745f4423b873c",
   "metadata": {},
   "outputs": [
    {
     "name": "stdout",
     "output_type": "stream",
     "text": [
      "[StateMachine] Starting: __entry__\n",
      "[StateMachine] Executing step: message_prep\n",
      "[StateMachine] Executing step: llm_processor\n",
      "[StateMachine] Executing step: tool_executor\n",
      "[StateMachine] Executing step: llm_processor\n",
      "[StateMachine] Executing step: tool_executor\n",
      "[StateMachine] Executing step: llm_processor\n",
      "[StateMachine] Terminating: __termination__\n",
      "User question:\n",
      "Was Mortal Kombat X released for PlayStation 5?\n",
      "\n",
      "Final answer:\n",
      "Mortal Kombat X was not originally released for PlayStation 5; it was initially released for PlayStation 4. However, it is backward compatible on PlayStation 5, meaning players can still play it on the PS5. The game is available on the PS5 store, but some features from the PS4 version may be absent.\n",
      "\n",
      "Sources:\n",
      "- [PlayStation Store - Mortal Kombat X](https://store.playstation.com/en-us/product/UP1018-CUSA00967_00-MORTALKOMBATX000)\n",
      "\n",
      "Tools used:\n",
      "- retrieve_game\n",
      "- game_web_search\n"
     ]
    }
   ],
   "source": [
    "# - Was Mortal Kombat X realeased for Playstation 5?\n",
    "result = agent.invoke(\"Was Mortal Kombat X realeased for Playstation 5?\", session_id=session_id)\n",
    "print(result.get_final_state()[\"messages\"][-1].content)"
   ]
  },
  {
   "cell_type": "code",
   "execution_count": 14,
   "id": "e88671a3-8cf0-4ce7-9159-001172dd946f",
   "metadata": {},
   "outputs": [
    {
     "name": "stdout",
     "output_type": "stream",
     "text": [
      "{   'current_tool_calls': None,\n",
      "    'instructions': '\\n'\n",
      "                    '    You are an AI Research Agent for the video game '\n",
      "                    'industry. \"\\n'\n",
      "                    '    Your tasks include: \"\\n'\n",
      "                    '    1) Answering questions using internal knowledge '\n",
      "                    'first. \"\\n'\n",
      "                    '    2) Evaluating the sufficiency of this answer using '\n",
      "                    'the \\'evaluate_retrieval\\' tool. \"\\n'\n",
      "                    '    3) If the internal knowledge is insufficient, use the '\n",
      "                    '\\'game_web_search\\' tool as a fallback. \"\\n'\n",
      "                    \"    4) You may use the 'retrieve_game' tool to fetch \"\n",
      "                    'relevant documents from the vector database to support '\n",
      "                    'your answer. \"\\n'\n",
      "                    '\\n'\n",
      "                    '    Provide the final answer based on the best available '\n",
      "                    'source.\"\\n'\n",
      "                    '    Format your final output as follows:\\n'\n",
      "                    '\\n'\n",
      "                    '    User question:\\n'\n",
      "                    \"    <user's question>\\n\"\n",
      "                    '\\n'\n",
      "                    '    Final answer:\\n'\n",
      "                    '    <your full answer here>\"\\n'\n",
      "                    '\\n'\n",
      "                    '    Sources:\\n'\n",
      "                    '    - If based on local data, write: Local database\\n'\n",
      "                    '    - If based on web search, provide full clickable URLs '\n",
      "                    'like: \\n'\n",
      "                    '      [Wikipedia - GameName](https://...)\\n'\n",
      "                    '\\n'\n",
      "                    '    Tools used:\\n'\n",
      "                    '    - If no tools used, skip this section\\n'\n",
      "                    '    - If tools are used write them as bulletpoints e.g. \\n'\n",
      "                    '      - evaluate_retrieval\\n'\n",
      "                    '      - game_web_search\\n'\n",
      "                    '\\n'\n",
      "                    '    Make sure the response is factual, clear, and '\n",
      "                    'well-formatted.\\n'\n",
      "                    '    The final report must include your answer with '\n",
      "                    'citations (if any), and a list of tools used.\\n'\n",
      "                    '    ',\n",
      "    'messages': [   SystemMessage(role='system', content='\\n    You are an AI Research Agent for the video game industry. \"\\n    Your tasks include: \"\\n    1) Answering questions using internal knowledge first. \"\\n    2) Evaluating the sufficiency of this answer using the \\'evaluate_retrieval\\' tool. \"\\n    3) If the internal knowledge is insufficient, use the \\'game_web_search\\' tool as a fallback. \"\\n    4) You may use the \\'retrieve_game\\' tool to fetch relevant documents from the vector database to support your answer. \"\\n\\n    Provide the final answer based on the best available source.\"\\n    Format your final output as follows:\\n\\n    User question:\\n    <user\\'s question>\\n\\n    Final answer:\\n    <your full answer here>\"\\n\\n    Sources:\\n    - If based on local data, write: Local database\\n    - If based on web search, provide full clickable URLs like: \\n      [Wikipedia - GameName](https://...)\\n\\n    Tools used:\\n    - If no tools used, skip this section\\n    - If tools are used write them as bulletpoints e.g. \\n      - evaluate_retrieval\\n      - game_web_search\\n\\n    Make sure the response is factual, clear, and well-formatted.\\n    The final report must include your answer with citations (if any), and a list of tools used.\\n    '),\n",
      "                    UserMessage(role='user', content='When was Pokémon Gold and Silver released?'),\n",
      "                    AIMessage(role='assistant', content='User question:\\nWhen was Pokémon Gold and Silver released?\\n\\nFinal answer:\\nPokémon Gold and Silver were originally released in Japan on November 21, 1999. They were later released in North America on October 16, 2000, and in Europe on April 6, 2001.\\n\\nSources:\\n- Local database\\n\\nTools used:\\n- None', tool_calls=None, token_usage=None),\n",
      "                    UserMessage(role='user', content='Which one was the first 3D platformer Mario game?'),\n",
      "                    AIMessage(role='assistant', content='User question:\\nWhich one was the first 3D platformer Mario game?\\n\\nFinal answer:\\nThe first 3D platformer Mario game is \"Super Mario 64,\" which was released for the Nintendo 64 on June 23, 1996, in Japan and later in North America on September 29, 1996. This game revolutionized the platforming genre by introducing a fully 3D environment, allowing players to explore and interact with the world in a way that was unprecedented at the time.\\n\\nSources:\\n- Local database\\n\\nTools used:\\n- None', tool_calls=None, token_usage=None),\n",
      "                    UserMessage(role='user', content='Was Mortal Kombat X realeased for Playstation 5?'),\n",
      "                    AIMessage(role='assistant', content=None, tool_calls=[ChatCompletionMessageToolCall(id='call_2MgfGWQllgijJFndcDys3mQT', function=Function(arguments='{\"query\":\"Mortal Kombat X PlayStation 5 release\"}', name='retrieve_game'), type='function')], token_usage=None),\n",
      "                    ToolMessage(role='tool', content='\"[{\\'Platform\\': \\'PlayStation 5\\', \\'Publisher\\': \\'Sony Interactive Entertainment\\', \\'Name\\': \\\\\"Marvel\\'s Spider-Man 2\\\\\", \\'YearOfRelease\\': \\'2023\\', \\'Description\\': \\'The sequel to the acclaimed Spider-Man game, featuring both Peter Parker and Miles Morales as playable characters.\\', \\'Genre\\': \\'Action-adventure\\'}, {\\'Platform\\': \\'Xbox Series X|S\\', \\'Publisher\\': \\'Xbox Game Studios\\', \\'Name\\': \\'Halo Infinite\\', \\'YearOfRelease\\': \\'2021\\', \\'Description\\': \\\\\"The latest installment in the Halo franchise, featuring Master Chief\\'s return in a new open-world setting.\\\\\", \\'Genre\\': \\'First-person shooter\\'}, {\\'Platform\\': \\'PlayStation 4\\', \\'Publisher\\': \\'Sony Interactive Entertainment\\', \\'Name\\': \\\\\"Marvel\\'s Spider-Man\\\\\", \\'YearOfRelease\\': \\'2018\\', \\'Description\\': \\'An open-world superhero game that lets players swing through New York City as Spider-Man, battling iconic villains.\\', \\'Genre\\': \\'Action-adventure\\'}]\"', tool_call_id='call_2MgfGWQllgijJFndcDys3mQT', name='retrieve_game'),\n",
      "                    AIMessage(role='assistant', content=None, tool_calls=[ChatCompletionMessageToolCall(id='call_1nbms6amkzBbPvUAD1UhLnQJ', function=Function(arguments='{\"question\":\"Was Mortal Kombat X released for PlayStation 5?\"}', name='game_web_search'), type='function')], token_usage=None),\n",
      "                    ToolMessage(role='tool', content='\"{\\'answer\\': \\'Mortal Kombat X was originally released for PlayStation 4, but it is backward compatible on PlayStation 5. It is available on the PS5 store, though some PS4 features may be absent.\\', \\'results\\': [{\\'url\\': \\'https://www.youtube.com/watch?v=HUNMZwDdrvY\\', \\'title\\': \\'Mortal Kombat X (PS5) 4K 60FPS HDR Gameplay - YouTube\\', \\'content\\': \\'Mortal Kombat X[b] is a 2015 fighting game developed by NetherRealm Studios and published by Warner Bros. Interactive Entertainment for Windows, PlayStation 4, and Xbox One. It is the tenth main installment in the Mortal Kombat series and a sequel to Mortal Kombat (2011), taking place 25 years later after the events of its predecessor. High Voltage Software developed the Windows version of the game, with Polish studio QLOC taking over the work on it shortly after the release of Kombat Pack 1. [...] \\\\u25b6TikTok @dieisongames\\\\\\\\n\\\\\\\\n\\\\u25b6Insta @dieisongames\\\\\\\\n\\\\\\\\n\\\\u25b62\\\\u00ba Channel\\\\\\\\n \\\\\\\\n\\\\\\\\nMortal Kombat X (PS5) 4K 60FPS HDR Gameplay\\\\\\\\nMortal Kombat X 4k Gameplay PS5\\\\\\\\n\\\\\\\\n#MortalKombatX #ps5 #playstation5 #ps5version \\\\\\\\n\\\\\\\\n-~-~~-~~~-~~-~-\\\\\\\\nPlease watch: \\\\\"Gran Turismo 7 (PS5) 4K 60FPS HDR Gameplay (Tomahawk 645 km/h)\\\\\"\\\\\\\\n\\\\\\\\n-~-~~-~~~-~~-~- [...] 2 comments\\\\\\\\n### Transcript:\\', \\'score\\': 0.8832463, \\'raw_content\\': None}, {\\'url\\': \\'https://www.youtube.com/watch?v=9Dto2mjnliA\\', \\'title\\': \\'PlayStation 5 | Mortal Kombat X | Backwards compatible test\\', \\'content\\': \\\\\"hey guys and girls and thank you for watching another episode of the PlayStation tester my name is Maurice today we\\'re getting a look at Mortal Kombat X on the PlayStation 5 so this is still a PlayStation 4 game that runs backwards compatible on your PlayStation 5 so without further Ado let\\'s just dive in first of all let\\'s see how much data this game is and that\\'s only 44.89 GB it\\'s version 1.16 and um I\\'ve got it installed on my internal SSD so in terms of uh loading times it should be good [...] come on oh my [Music] goodness lack Focus ah pancakes l k wins you will not be remembered round let\\'s see how do you do R2 and up right trigger well I\\'ve got one oh pancakes oh that\\'s got to hurt o love it finish him here we go now he has a split personality WIS fatality oh my goodness is insane funny but insane yeah you guys this is Mortal Kombat X on the PlayStation 5 and like I said if you can get it cheap it\\'s a lot of fun thank you for watching hope you had fun hope see you guys soon in [...] let\\'s go start it up you guys if you like this kind of content don\\'t forget to like And subscribe to the channel it means a lot for me you really helping out the channel you can also hit the Bell icon I upload almost on a weekly basis new games old games updates on games sometimes even a little bit of Hardware here and there so Mortal Kombat XL or Mortal Kombat 10 sadly we can\\'t play Mortal Kombat 9 on the PlayStation 4 or five it was a PlayStation 3 title that they never made available on the\\\\\", \\'score\\': 0.84767824, \\'raw_content\\': None}, {\\'url\\': \\'https://www.youtube.com/watch?v=-JPXripEMoA\\', \\'title\\': \\'Mortal Kombat X PS5 Gameplay Review - YouTube\\', \\'content\\': \\\\\"Commentary Review it\\'s mortal kombat x we\\'re on playstation 5 taking a look at this entry in the long running fighting series so what we\\'re getting here is a 1080p 60fps it features a large roster of characters with some gnarly combative scenes intense combat and some improvements to the overall mechanics for showing off a variety of different fights today in order to showcase a lot of what this has to offer so the game contains a number of different modes including a story mode which i guess [...] You could use the environment to assist you, while enjoying cinematic moments that masterfully tie the characters together in many unique ways the whole way through. It\\'s quite exciting, thrilling and just brutally fast paced. The ultimate best Mortal Kombat X PS5 review and gameplay.\\\\\\\\n\\\\\\\\n00:00 Commentary Review\\\\\\\\n07:20 No Commentary Gameplay [...] full mortal kombat experience and again there\\'s the x version and there\\'s like xl and it\\'s got some other things you know some of the extra like combat characters because i think 24 players that launch like playable characters at launch and then there\\'s nine with the dlc and that included the likes of like jason before he\\'s a predator an alien leatherface you know stuff like that kind of cool but the main cast i think has most if not all of the core groups of the fighters from the franchise you\\\\\", \\'score\\': 0.79369855, \\'raw_content\\': None}, {\\'url\\': \\'https://www.reddit.com/r/MortalKombat/comments/15can50/mortal_kombat_x_on_ps5/\\', \\'title\\': \\'Mortal Kombat X on PS5? : r/MortalKombat - Reddit\\', \\'content\\': \\'/r/MortalKombat is the OFFICIAL subreddit of Mortal Kombat 1, released in September 2023, and a grass roots kommunity-run subreddit for the Mortal Kombat franchise. r/Mortal Kombat is the biggest Mortal Kombat fan resource on the internet, covering a wide range of MK culture and a premier destination for Mortal Kombat gameplay discussion, both casual and competitive! Mortal Kombat is the iconic fighting game franchise created by NetherRealm Studios, a Warner Bros. Games studio. [...] /r/MortalKombat is the OFFICIAL subreddit of Mortal Kombat 1, released in September 2023, and a grass roots kommunity-run subreddit for the Mortal Kombat franchise. r/Mortal Kombat is the biggest Mortal Kombat fan resource on the internet, covering a wide range of MK culture and a premier destination for Mortal Kombat gameplay discussion, both casual and competitive! Mortal Kombat is the iconic fighting game franchise created by NetherRealm Studios, a Warner Bros. Games studio. [...] /r/MortalKombat is the OFFICIAL subreddit of Mortal Kombat 1, released in September 2023, and a grass roots kommunity-run subreddit for the Mortal Kombat franchise. r/Mortal Kombat is the biggest Mortal Kombat fan resource on the internet, covering a wide range of MK culture and a premier destination for Mortal Kombat gameplay discussion, both casual and competitive! Mortal Kombat is the iconic fighting game franchise created by NetherRealm Studios, a Warner Bros. Games studio.\\', \\'score\\': 0.7752821, \\'raw_content\\': None}, {\\'url\\': \\'https://store.playstation.com/en-us/product/UP1018-CUSA00967_00-MORTALKOMBATX000\\', \\'title\\': \\'Mortal Kombat X - PlayStation\\\\u00ae Store\\', \\'content\\': \\'To play this game on PS5, your system may need to be updated to the latest system software. Although this game is playable on PS5, some features available on PS4 may be absent. See PlayStation.com/bc for more details.\\\\\\\\n\\\\\\\\nOnline features require an account and are subject to terms of service and applicable privacy policy (playstationnetwork.com/terms-of-service & playstationnetwork.com/privacy-policy). \\\\\\\\n\\\\\\\\nSoftware subject to license (us.playstation.com/softwarelicense).\\', \\'score\\': 0.7460839, \\'raw_content\\': None}]}\"', tool_call_id='call_1nbms6amkzBbPvUAD1UhLnQJ', name='game_web_search'),\n",
      "                    AIMessage(role='assistant', content='User question:\\nWas Mortal Kombat X released for PlayStation 5?\\n\\nFinal answer:\\nMortal Kombat X was not originally released for PlayStation 5; it was initially released for PlayStation 4. However, it is backward compatible on PlayStation 5, meaning players can still play it on the PS5. The game is available on the PS5 store, but some features from the PS4 version may be absent.\\n\\nSources:\\n- [PlayStation Store - Mortal Kombat X](https://store.playstation.com/en-us/product/UP1018-CUSA00967_00-MORTALKOMBATX000)\\n\\nTools used:\\n- retrieve_game\\n- game_web_search', tool_calls=None, token_usage=None)],\n",
      "    'session_id': UUID('bb3ca895-89a7-4850-b9f0-ec3b43ea0e52'),\n",
      "    'total_tokens': 4191,\n",
      "    'user_query': 'Was Mortal Kombat X realeased for Playstation 5?'}\n"
     ]
    }
   ],
   "source": [
    "pp.pprint(result.get_final_state())"
   ]
  },
  {
   "cell_type": "markdown",
   "id": "e00ae0162fab2bba",
   "metadata": {},
   "source": [
    "### (Optional) Advanced"
   ]
  },
  {
   "cell_type": "code",
   "execution_count": null,
   "id": "d3e431fa-798e-4bf2-9e3a-09f8714c16e5",
   "metadata": {},
   "outputs": [],
   "source": []
  }
 ],
 "metadata": {
  "kernelspec": {
   "display_name": "Python 3 (ipykernel)",
   "language": "python",
   "name": "python3"
  },
  "language_info": {
   "codemirror_mode": {
    "name": "ipython",
    "version": 3
   },
   "file_extension": ".py",
   "mimetype": "text/x-python",
   "name": "python",
   "nbconvert_exporter": "python",
   "pygments_lexer": "ipython3",
   "version": "3.11.0"
  }
 },
 "nbformat": 4,
 "nbformat_minor": 5
}
