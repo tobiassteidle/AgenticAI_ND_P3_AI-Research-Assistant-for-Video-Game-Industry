{
 "cells": [
  {
   "cell_type": "markdown",
   "id": "6fdd0bcb",
   "metadata": {},
   "source": [
    "# [Solution] Udaplay Project"
   ]
  },
  {
   "cell_type": "markdown",
   "id": "9325b035",
   "metadata": {},
   "source": [
    "## Part 02 - Agent\n",
    "\n",
    "In this part of the project, you'll use your VectorDB to be part of your Agent as a tool.\n",
    "\n",
    "You're building UdaPlay, an AI Research Agent for the video game industry. The agent will:\n",
    "1. Answer questions using internal knowledge (RAG)\n",
    "2. Search the web when needed\n",
    "3. Maintain conversation state\n",
    "4. Return structured outputs\n",
    "5. Store useful information for future use"
   ]
  },
  {
   "cell_type": "markdown",
   "id": "2b42de90",
   "metadata": {},
   "source": [
    "### Setup"
   ]
  },
  {
   "cell_type": "code",
   "execution_count": 1,
   "id": "a963d4ca",
   "metadata": {
    "ExecuteTime": {
     "end_time": "2025-07-13T19:17:18.851894Z",
     "start_time": "2025-07-13T19:17:18.842519Z"
    }
   },
   "outputs": [],
   "source": [
    "# Only needed for Udacity workspace\n",
    "\n",
    "import importlib.util\n",
    "import sys\n",
    "\n",
    "# Check if 'pysqlite3' is available before importing\n",
    "if importlib.util.find_spec(\"pysqlite3\") is not None:\n",
    "    import pysqlite3\n",
    "    sys.modules['sqlite3'] = sys.modules.pop('pysqlite3')"
   ]
  },
  {
   "cell_type": "code",
   "execution_count": 2,
   "id": "b67351b437052eff",
   "metadata": {
    "ExecuteTime": {
     "end_time": "2025-07-13T19:17:20.509132Z",
     "start_time": "2025-07-13T19:17:19.220339Z"
    }
   },
   "outputs": [],
   "source": [
    "# TODO: Import the necessary libs\n",
    "# For example:\n",
    "import os\n",
    "\n",
    "from typing import List\n",
    "from dotenv import load_dotenv\n",
    "import chromadb\n",
    "from tavily import TavilyClient\n",
    "from lib.agents import Agent\n",
    "from lib.llm import LLM\n",
    "from lib.messages import UserMessage, SystemMessage, ToolMessage, AIMessage\n",
    "from lib.tooling import tool"
   ]
  },
  {
   "cell_type": "code",
   "execution_count": 3,
   "id": "76275be0034227d5",
   "metadata": {},
   "outputs": [],
   "source": [
    "# TODO: Load environment variables\n",
    "load_dotenv()\n",
    "\n",
    "OPENAI_API_KEY = os.getenv(\"OPENAI_API_KEY\")\n",
    "TAVILY_API_KEY = os.getenv(\"TAVILY_API_KEY\")\n",
    "CHROMA_OPENAI_API_KEY = os.getenv(\"CHROMA_OPENAI_API_KEY\")"
   ]
  },
  {
   "cell_type": "markdown",
   "id": "38b450ae87e7c8d1",
   "metadata": {},
   "source": [
    "### Tools"
   ]
  },
  {
   "cell_type": "markdown",
   "id": "faa89a98503b8312",
   "metadata": {},
   "source": [
    "Build at least 3 tools:\n",
    "- retrieve_game: To search the vector DB\n",
    "- evaluate_retrieval: To assess the retrieval performance\n",
    "- game_web_search: If no good, search the web\n"
   ]
  },
  {
   "cell_type": "markdown",
   "id": "745684422de2d9ed",
   "metadata": {},
   "source": [
    "#### Retrieve Game Tool"
   ]
  },
  {
   "cell_type": "code",
   "execution_count": 4,
   "id": "3b4419f5093918f2",
   "metadata": {
    "ExecuteTime": {
     "end_time": "2025-07-13T19:17:25.687397Z",
     "start_time": "2025-07-13T19:17:23.412383Z"
    }
   },
   "outputs": [
    {
     "data": {
      "text/plain": [
       "[{'Platform': 'Nintendo Switch',\n",
       "  'Publisher': 'Nintendo',\n",
       "  'Name': 'Mario Kart 8 Deluxe',\n",
       "  'YearOfRelease': '2017',\n",
       "  'Description': 'An enhanced version of Mario Kart 8, featuring new characters, tracks, and improved gameplay mechanics.',\n",
       "  'Genre': 'Racing'},\n",
       " {'Platform': 'Wii',\n",
       "  'Publisher': 'Nintendo',\n",
       "  'Name': 'Wii Sports',\n",
       "  'YearOfRelease': '2006',\n",
       "  'Description': \"A collection of sports games that utilize the Wii's motion controls, bundled with the console to showcase its capabilities.\",\n",
       "  'Genre': 'Sports'},\n",
       " {'Platform': 'GameCube',\n",
       "  'Publisher': 'Nintendo',\n",
       "  'Name': 'Super Smash Bros. Melee',\n",
       "  'YearOfRelease': '2001',\n",
       "  'Description': 'A crossover fighting game featuring characters from various Nintendo franchises battling it out in dynamic arenas.',\n",
       "  'Genre': 'Fighting'}]"
      ]
     },
     "execution_count": 4,
     "metadata": {},
     "output_type": "execute_result"
    }
   ],
   "source": [
    "# TODO: Create retrieve_game tool\n",
    "# It should use chroma client and collection you created\n",
    "# chroma_client = chromadb.PersistentClient(path=\"chromadb\")\n",
    "# collection = chroma_client.get_collection(\"udaplay\")\n",
    "# Tool Docstring:\n",
    "#    Semantic search: Finds most results in the vector DB\n",
    "#    args:\n",
    "#    - query: a question about game industry.\n",
    "#\n",
    "#    You'll receive results as list. Each element contains:\n",
    "#    - Platform: like Game Boy, Playstation 5, Xbox 360...)\n",
    "#    - Name: Name of the Game\n",
    "#    - YearOfRelease: Year when that game was released for that platform\n",
    "#    - Description: Additional details about the game\n",
    "@tool(\n",
    "    name=\"retrieve_game\",\n",
    "    description=\"Retrieve game information from the vector database\",\n",
    ")\n",
    "def retrieve_game(query: str) -> List[dict]:\n",
    "    \"\"\"\n",
    "    Retrieve game information from the vector database based on the query.\n",
    "\n",
    "    Args:\n",
    "        query (str): A question about the game industry.\n",
    "\n",
    "    Returns:\n",
    "        List[dict]: A list of dictionaries containing game information.\n",
    "    \"\"\"\n",
    "    chroma_client = chromadb.PersistentClient(path=\"chromadb\")\n",
    "    collection = chroma_client.get_collection(\"udaplay\")\n",
    "\n",
    "    results = collection.query(\n",
    "        query_texts=[query],\n",
    "        n_results=3,\n",
    "        include=['documents']\n",
    "    )\n",
    "\n",
    "    # Extract relevant information from the results\n",
    "    games = []\n",
    "    for doc in results['documents'][0]:\n",
    "        game_info = {\n",
    "            \"Platform\": doc.split(\"Platform: [\")[1].split(\"]\")[0],\n",
    "            \"Publisher\": doc.split(\"Publisher: \")[1].split(\"\\n\")[0].strip(),\n",
    "            \"Name\": doc.split(\"Name: \")[1].split(\"Release Date:\")[0].strip(),\n",
    "            \"YearOfRelease\": doc.split(\"Release Date: (\")[1].split(\")\")[0],\n",
    "            \"Description\": doc.split(\"Description: \")[1].strip(),\n",
    "            \"Genre\": doc.split(\"Genre: \")[1].split(\"\\n\")[0].strip(),\n",
    "        }\n",
    "        games.append(game_info)\n",
    "\n",
    "    return games\n",
    "\n",
    "retrieve_game(\"What is a game for Nintendo Switch?\")  # Example usage"
   ]
  },
  {
   "cell_type": "markdown",
   "id": "910dc945",
   "metadata": {},
   "source": [
    "#### Evaluate Retrieval Tool"
   ]
  },
  {
   "cell_type": "code",
   "execution_count": 5,
   "id": "0d9d014b",
   "metadata": {
    "ExecuteTime": {
     "end_time": "2025-07-13T19:17:26.978425Z",
     "start_time": "2025-07-13T19:17:26.972450Z"
    }
   },
   "outputs": [],
   "source": [
    "# TODO: Create evaluate_retrieval tool\n",
    "# You might use an LLM as judge in this tool to evaluate the performance\n",
    "# You need to prompt that LLM with something like:\n",
    "# \"Your task is to evaluate if the documents are enough to respond the query. \"\n",
    "# \"Give a detailed explanation, so it's possible to take an action to accept it or not.\"\n",
    "# Use EvaluationReport to parse the result\n",
    "# Tool Docstring:\n",
    "#    Based on the user's question and on the list of retrieved documents,\n",
    "#    it will analyze the usability of the documents to respond to that question.\n",
    "#    args:\n",
    "#    - question: original question from user\n",
    "#    - retrieved_docs: retrieved documents most similar to the user query in the Vector Database\n",
    "#    The result includes:\n",
    "#    - useful: whether the documents are useful to answer the question\n",
    "#    - description: description about the evaluation result\n",
    "@tool(\n",
    "    name=\"evaluate_retrieval\",\n",
    "    description=\"Evaluate the usability of retrieved documents for answering a question\",\n",
    ")\n",
    "def evaluate_retrieval(question: str, retrieved_docs: List[str]) -> dict:\n",
    "    \"\"\"\n",
    "    Evaluate the usability of retrieved documents for answering a question.\n",
    "\n",
    "    Args:\n",
    "        question (str): The original question from the user.\n",
    "        retrieved_docs (List[str]): The list of retrieved documents most similar to the user query.\n",
    "\n",
    "    Returns:\n",
    "        dict: A dictionary containing evaluation results with keys 'useful' and 'description'.\n",
    "    \"\"\"\n",
    "    llm = LLM(model=\"gpt-4o-mini\", temperature=0.3)\n",
    "\n",
    "    prompt = (\n",
    "        \"Your task is to evaluate if the documents are enough to respond to the query. \"\n",
    "        \"Give a detailed explanation, so it's possible to take an action to accept it or not.\\n\\n\"\n",
    "        f\"Question: {question}\\n\\n\"\n",
    "        \"Retrieved Documents:\\n\" + \"\\n\".join(retrieved_docs) + \"\\n\\n\"\n",
    "        \"Evaluate if these documents are useful to answer the question.\"\n",
    "    )\n",
    "\n",
    "    response = llm.invoke(prompt)\n",
    "\n",
    "    # Assuming response is structured as follows:\n",
    "    # {\n",
    "    #     \"useful\": True/False,\n",
    "    #     \"description\": \"Detailed explanation of the evaluation\"\n",
    "    # }\n",
    "\n",
    "    return response"
   ]
  },
  {
   "cell_type": "markdown",
   "id": "c7935a26",
   "metadata": {},
   "source": [
    "#### Game Web Search Tool"
   ]
  },
  {
   "cell_type": "code",
   "execution_count": 6,
   "id": "2ad698aa",
   "metadata": {
    "ExecuteTime": {
     "end_time": "2025-07-13T19:17:29.917413Z",
     "start_time": "2025-07-13T19:17:28.524445Z"
    }
   },
   "outputs": [
    {
     "data": {
      "text/plain": [
       "{'answer': \"Mario Kart 8 Deluxe is a popular Nintendo Switch game. It features over 40 racers and 48 tracks. It's praised for its multiplayer capabilities and extensive content.\",\n",
       " 'results': [{'url': 'https://www.cnet.com/tech/gaming/top-best-nintendo-switch-games/',\n",
       "   'title': 'Top 20 Best Nintendo Switch Games - June 2025 | CNET',\n",
       "   'content': 'Tech\\n   Gaming\\n   Nintendo\\n\\nThe 20 Best Nintendo Switch Games Right Now\\n===========================================\\n\\nThe Nintendo Switch\\'s best games include Pokemon, Zelda, Mario and Metroid games, alongside indie hits and multiplayer party games.\\n\\nImage 3: Headshot of Tyler Graham\\n\\nImage 4: Headshot of Tyler Graham\\n\\nTyler Graham Writer [...] Even if you\\'ve never owned a Nintendo console, you\\'ve still probably played Mario Kart at some point in your life. It\\'s practically _the_ go-to party game, as pretty much anyone can pick up a controller and jump in. Mario Kart 8 actually originates from the Wii U era, but the game was ported to the Switch in April 2017, with \"Deluxe\" attached to the title and several content expansions released. [...] After what was considered a failed launch of the Wii U in 2012, the Switch\\'s success is a result of Nintendo\\'s willingness to experiment with and create new experiences from a number of its pedigreed gaming series, including Super Mario, The Legend of Zelda and Pokemon. Its innovative design allows standard console play to coexist with the motion controls baked into its compact Joy-Con design.',\n",
       "   'score': 0.6884899,\n",
       "   'raw_content': None},\n",
       "  {'url': 'https://www.nintendolife.com/nintendo-switch/games/browse',\n",
       "   'title': 'All Nintendo Switch Games',\n",
       "   'content': \"Pokémon Sword and Shield Switch\\n\\nNintendo / Game Freak\\n\\nARMS Switch\\n\\nNintendo\\n\\nDead or Alive Xtreme 3: Scarlet Switch\\n\\nKoei Tecmo / Digital Touch\\n\\nTomodachi Life: Living the Dream Switch\\n\\nNintendo\\n\\nThe Witcher 3: Wild Hunt - Complete Edition Switch\\n\\nCD Projekt Red\\n\\nOnimusha 2: Samurai's Destiny Switch\\n\\nCapcom\\n\\nDiablo III: Eternal Collection Switch\\n\\nBlizzard\\n\\nDonkey Kong Country: Tropical Freeze Switch\\n\\nNintendo / Retro Studios\\n\\nLatest News\\n\\n10 [...] Nintendo\\n\\nThe Legend of Zelda: Tears of the Kingdom Switch\\n\\nNintendo\\n\\nFantasy Life i: The Girl Who Steals Time Switch\\n\\nLevel-5\\n\\nPokémon Scarlet and Violet Switch\\n\\nNintendo / Game Freak\\n\\nMetroid Prime 4: Beyond Switch\\n\\nNintendo / Retro Studios\\n\\nThe Legend of Zelda: Breath of the Wild Switch\\n\\nNintendo / Nintendo SPD\\n\\nSuper Mario Odyssey Switch\\n\\nNintendo\\n\\nPokémon Legends: Z-A Switch\\n\\nThe Pokémon Company / Game Freak\\n\\nCapcom Fighting Collection 2 Switch\\n\\nCapcom [...] The Legend of Zelda: Echoes of Wisdom Switch\\n\\nNintendo\\n\\nSuper Mario 3D World + Bowser's Fury Switch\\n\\nNintendo\\n\\nPokémon Legends: Arceus Switch\\n\\nNintendo / Game Freak\\n\\nDead Or School Switch\\n\\nMarvelous Entertainment / Studio Nanafushi\\n\\nMario Kart 8 Deluxe Switch\\n\\nNintendo\\n\\nSuper Smash Bros. Ultimate Switch\\n\\nNintendo / Sora\\n\\nSuikoden I & II HD Remaster: Gate Rune and Dunan Unification Wars Switch\\n\\nKonami\\n\\nMetroid Prime Remastered Switch\\n\\nNintendo / Retro Studios\",\n",
       "   'score': 0.6811549,\n",
       "   'raw_content': None},\n",
       "  {'url': 'https://www.target.com/c/nintendo-switch-games-video/-/N-p86ax',\n",
       "   'title': 'Nintendo Switch Games - Target',\n",
       "   'content': 'Zelda: Breath of the wild, Pokemon, Pokemon Sword, Mario Kart 8 Deluxe, Super Mario Odyssey, Super Smash Bros and Super Mario Maker 2. If you are a Pokemon fan, find a collection of games starring the famous Pikachu. These cute games also make for the perfect gift for your kiddos. Featuring exciting gameplays and immersive graphics, these video games are sure to keep you hooked! Browse through a range of Nintendo Switch Games and find the right pick for you. [...] Gaming is a fun way to blow off some steam. Not only do you get to meet new people around the world, you also get to exercise your strategy skills. Put your gaming hats on and get ready to experience a world that is more fantastical than our own. At Target, find a wide collection of video games that you can play on your Nintendo Switch. From adventure games to action games and strategy games to puzzle games, you will find one to keep you entertained for hours. Look through a range of games like',\n",
       "   'score': 0.67063034,\n",
       "   'raw_content': None},\n",
       "  {'url': 'https://en.wikipedia.org/wiki/List_of_Nintendo_Switch_games_(0%E2%80%939)',\n",
       "   'title': 'List of Nintendo Switch games (0–9) - Wikipedia',\n",
       "   'content': '170.   ^#cite_ref-170 \"Jump up\")\"3D Arcade Fishing\". _Nintendo Europe_. Retrieved November 6, 2021.\\n171.   ^#cite_ref-171 \"Jump up\")\"3D Billiards - Pool & Snooker for Nintendo Switch\". _Nintendo_. Retrieved April 15, 2025.\\n172.   ^#cite_ref-172 \"Jump up\")\"3D Box Sokoban for Nintendo Switch\". _Nintendo_. Retrieved April 15, 2025.\\n173.   ^#cite_ref-173 \"Jump up\")\"3D Don\\'t Die Mr. Robot for Nintendo Switch\". _Nintnedo_. Retrieved April 15, 2025. [...] 189.   ^#cite_ref-189 \"Jump up\")\"5 in 1 Classics: Fashion Bubble Mania for Nintendo Switch\". _Nintendo_. Retrieved April 15, 2025.\\n190.   ^#cite_ref-190 \"Jump up\")Sal Romano (November 29, 2023). \"Sound novel 5-fun Go ni Igai na Ketsumatsu: Monochrome no Toshokan announced for Switch\". _Gematsu_. Retrieved December 19, 2024.\\n191.   ^#cite_ref-191 \"Jump up\")\"50 Pinch Barrage!! for Nintendo Switch\". _Nintendo_. Retrieved April 15, 2025. [...] 178.   ^#cite_ref-178 \"Jump up\")\"4 The Elements for Nintendo Switch\". _Nintendo_. Retrieved April 15, 2025.\\n179.   ^#cite_ref-179 \"Jump up\")\"44 Minutes in Nightmare for Nintendo Switch\". _Nintendo_. Retrieved April 15, 2025.\\n180.   ^#cite_ref-180 \"Jump up\")\"49 Keys for Nintendo Switch\". _Nintendo_. Retrieved April 15, 2025.\\n181.   ^#cite_ref-181 \"Jump up\")\"4x4 Adventure: Rocky Pathways for Nintendo Switch\". _Nintendo_. Retrieved April 15, 2025.',\n",
       "   'score': 0.6150191,\n",
       "   'raw_content': None},\n",
       "  {'url': 'https://www.gamespot.com/gallery/best-nintendo-switch-games/2900-3828/',\n",
       "   'title': 'The Best Nintendo Switch Games In 2025 - GameSpot',\n",
       "   'content': \"more scenic, desolate world that's ripe for exploring, whether you're on foot, horseback, or scaling a cliff searching for a new discovery. Breath of the Wild is a stunning, brilliant adventure. [...] An expanded port of the excellent Wii U game, Mario Kart 8 Deluxe is the best racing game on Nintendo Switch. Mario Kart 8 Deluxe currently contains more than 40 racers and 48 tracks, including many of the best courses from Mario Kart history. Deluxe adds several notable features, including driving assistance settings for new players and two item slots. It also has an extended Battle mode, which winds up making Mario Kart 8 Deluxe the most content-rich and well-rounded entry in series history. [...] Mario Kart 8 Deluxe released during the Switch's launch window, but it remains one of the most popular multiplayer games on the console for good reason. It should be in every Nintendo Switch owner's library.\",\n",
       "   'score': 0.60610276,\n",
       "   'raw_content': None}]}"
      ]
     },
     "execution_count": 6,
     "metadata": {},
     "output_type": "execute_result"
    }
   ],
   "source": [
    "# TODO: Create game_web_search tool\n",
    "# Please use Tavily client to search the web\n",
    "# Tool Docstring:\n",
    "#    Semantic search: Finds most results in the vector DB\n",
    "#    args:\n",
    "#    - question: a question about game industry.\n",
    "@tool(\n",
    "    name=\"game_web_search\",\n",
    "    description=\"Search the web for game industry information\",\n",
    ")\n",
    "def game_web_search(question: str, search_depth: str = \"advanced\") -> List[dict]:\n",
    "    \"\"\"\n",
    "    Search the web for game industry information based on the question.\n",
    "\n",
    "    Args:\n",
    "        question (str): A question about the game industry.\n",
    "\n",
    "    Returns:\n",
    "        List[dict]: A list of dictionaries containing search results.\n",
    "    \"\"\"\n",
    "    tavily_client = TavilyClient(api_key=TAVILY_API_KEY)\n",
    "    results = tavily_client.search(\n",
    "        query=question,\n",
    "        search_depth=search_depth,\n",
    "        include_answer=True,\n",
    "        include_raw_content=False,\n",
    "        include_images=False\n",
    "    )\n",
    "\n",
    "    # Extract relevant information from the results\n",
    "    formatted_results = {\n",
    "        \"answer\": results.get(\"answer\", \"\"),\n",
    "        \"results\": results.get(\"results\", [])\n",
    "    }\n",
    "\n",
    "    return formatted_results\n",
    "\n",
    "game_web_search(\"What is the a game for Nintendo Switch?\")  # Example usage"
   ]
  },
  {
   "cell_type": "markdown",
   "id": "df844b3b",
   "metadata": {},
   "source": [
    "### Agent"
   ]
  },
  {
   "cell_type": "code",
   "execution_count": 7,
   "id": "31c56281",
   "metadata": {
    "ExecuteTime": {
     "end_time": "2025-07-13T19:17:31.737065Z",
     "start_time": "2025-07-13T19:17:31.732513Z"
    }
   },
   "outputs": [],
   "source": [
    "# TODO: Create your Agent abstraction using StateMachine\n",
    "# Equip with an appropriate model\n",
    "# Craft a good set of instructions\n",
    "# Plug all Tools you developed\n",
    "agent = Agent(\n",
    "    model_name=\"gpt-4o-mini\",\n",
    "    tools=[retrieve_game, evaluate_retrieval, game_web_search],\n",
    "    instructions=(\n",
    "        \"You are an AI Research Agent for the video game industry. \"\n",
    "        \"Your tasks include answering questions using internal knowledge, \"\n",
    "        \"searching the web when needed, maintaining conversation state, \"\n",
    "        \"returning structured outputs, and storing useful information for future use.\"\n",
    "    ),\n",
    ")"
   ]
  },
  {
   "cell_type": "code",
   "execution_count": 8,
   "id": "0ec23893",
   "metadata": {
    "ExecuteTime": {
     "end_time": "2025-07-13T19:17:34.448900Z",
     "start_time": "2025-07-13T19:17:33.140219Z"
    }
   },
   "outputs": [
    {
     "name": "stdout",
     "output_type": "stream",
     "text": [
      "[StateMachine] Starting: __entry__\n",
      "[StateMachine] Executing step: message_prep\n",
      "[StateMachine] Executing step: llm_processor\n",
      "[StateMachine] Executing step: tool_executor\n",
      "[StateMachine] Executing step: llm_processor\n",
      "[StateMachine] Terminating: __termination__\n",
      "Pokémon Gold and Silver were released in 1999 for the Game Boy Color.\n"
     ]
    }
   ],
   "source": [
    "# TODO: Invoke your agent\n",
    "# - When Pokémon Gold and Silver was released?\n",
    "result = agent.invoke(\"When was Pokémon Gold and Silver released?\")\n",
    "print(result.get_final_state()[\"messages\"][-1].content)"
   ]
  },
  {
   "cell_type": "code",
   "execution_count": 9,
   "id": "9b9aa8e7-95da-4bbc-9ab1-0442e418aa79",
   "metadata": {},
   "outputs": [
    {
     "name": "stdout",
     "output_type": "stream",
     "text": [
      "[StateMachine] Starting: __entry__\n",
      "[StateMachine] Executing step: message_prep\n",
      "[StateMachine] Executing step: llm_processor\n",
      "[StateMachine] Executing step: tool_executor\n",
      "[StateMachine] Executing step: llm_processor\n",
      "[StateMachine] Terminating: __termination__\n",
      "The first 3D platformer Mario game is **Super Mario 64**, which was released in 1996 for the Nintendo 64.\n"
     ]
    }
   ],
   "source": [
    "# - Which one was the first 3D platformer Mario game?\n",
    "result = agent.invoke(\"Which one was the first 3D platformer Mario game?\")\n",
    "print(result.get_final_state()[\"messages\"][-1].content)"
   ]
  },
  {
   "cell_type": "code",
   "execution_count": 10,
   "id": "f55745f4423b873c",
   "metadata": {},
   "outputs": [
    {
     "name": "stdout",
     "output_type": "stream",
     "text": [
      "[StateMachine] Starting: __entry__\n",
      "[StateMachine] Executing step: message_prep\n",
      "[StateMachine] Executing step: llm_processor\n",
      "[StateMachine] Executing step: tool_executor\n",
      "[StateMachine] Executing step: llm_processor\n",
      "[StateMachine] Executing step: tool_executor\n",
      "[StateMachine] Executing step: llm_processor\n",
      "[StateMachine] Terminating: __termination__\n",
      "Mortal Kombat X was originally released for PlayStation 4 in 2015. While it is not a native release for PlayStation 5, it is backward compatible and can be played on the PS5. However, some features from the PS4 version may not be available on the PS5.\n"
     ]
    }
   ],
   "source": [
    "# - Was Mortal Kombat X realeased for Playstation 5?\n",
    "result = agent.invoke(\"Was Mortal Kombat X realeased for Playstation 5?\")\n",
    "print(result.get_final_state()[\"messages\"][-1].content)"
   ]
  },
  {
   "cell_type": "markdown",
   "id": "e00ae0162fab2bba",
   "metadata": {},
   "source": [
    "### (Optional) Advanced"
   ]
  },
  {
   "cell_type": "code",
   "execution_count": 11,
   "id": "72a23cca8f208e66",
   "metadata": {},
   "outputs": [],
   "source": [
    "# TODO: Update your agent with long-term memory\n",
    "# TODO: Convert the agent to be a state machine, with the tools being pre-defined nodes\n",
    "agent = Agent(\n",
    "    model_name=\"gpt-4o-mini\",\n",
    "    tools=[retrieve_game, evaluate_retrieval, game_web_search],\n",
    "    instructions=(\n",
    "        \"You are an AI Research Agent for the video game industry. \"\n",
    "        \"Your tasks include answering questions using internal knowledge, \"\n",
    "        \"searching the web when needed, maintaining conversation state, \"\n",
    "        \"returning structured outputs, and storing useful information for future use.\"\n",
    "        \"The final report should includes at least the response with citation, if any\"\n",
    "    ),\n",
    "    long_term_memory=True  # Enable long-term memory\n",
    ")"
   ]
  },
  {
   "cell_type": "code",
   "execution_count": 12,
   "id": "f2d54990-97b3-4caa-ab2d-0ef906fc307a",
   "metadata": {},
   "outputs": [
    {
     "ename": "AttributeError",
     "evalue": "'LongTermMemory' object has no attribute 'create_session'",
     "output_type": "error",
     "traceback": [
      "\u001B[31m---------------------------------------------------------------------------\u001B[39m",
      "\u001B[31mAttributeError\u001B[39m                            Traceback (most recent call last)",
      "\u001B[36mCell\u001B[39m\u001B[36m \u001B[39m\u001B[32mIn[12]\u001B[39m\u001B[32m, line 2\u001B[39m\n\u001B[32m      1\u001B[39m \u001B[38;5;66;03m# - Was Mortal Kombat X realeased for Playstation 5?\u001B[39;00m\n\u001B[32m----> \u001B[39m\u001B[32m2\u001B[39m result = \u001B[43magent\u001B[49m\u001B[43m.\u001B[49m\u001B[43minvoke\u001B[49m\u001B[43m(\u001B[49m\u001B[33;43m\"\u001B[39;49m\u001B[33;43mWas Mortal Kombat X realeased for Playstation 5?\u001B[39;49m\u001B[33;43m\"\u001B[39;49m\u001B[43m)\u001B[49m\n\u001B[32m      3\u001B[39m \u001B[38;5;28mprint\u001B[39m(result.get_final_state()[\u001B[33m\"\u001B[39m\u001B[33mmessages\u001B[39m\u001B[33m\"\u001B[39m][-\u001B[32m1\u001B[39m].content)\n",
      "\u001B[36mFile \u001B[39m\u001B[32mD:\\Deep Learning\\AgenticAI_ND_P3_AI-Research-Assistant-for-Video-Game-Industry\\lib\\agents.py:166\u001B[39m, in \u001B[36mAgent.invoke\u001B[39m\u001B[34m(self, query, session_id)\u001B[39m\n\u001B[32m    163\u001B[39m session_id = session_id \u001B[38;5;129;01mor\u001B[39;00m \u001B[33m\"\u001B[39m\u001B[33mdefault\u001B[39m\u001B[33m\"\u001B[39m\n\u001B[32m    165\u001B[39m \u001B[38;5;66;03m# Create session if it doesn't exist\u001B[39;00m\n\u001B[32m--> \u001B[39m\u001B[32m166\u001B[39m \u001B[38;5;28;43mself\u001B[39;49m\u001B[43m.\u001B[49m\u001B[43mmemory\u001B[49m\u001B[43m.\u001B[49m\u001B[43mcreate_session\u001B[49m(session_id)\n\u001B[32m    168\u001B[39m \u001B[38;5;66;03m# Get previous messages from last run if available\u001B[39;00m\n\u001B[32m    169\u001B[39m previous_messages = []\n",
      "\u001B[31mAttributeError\u001B[39m: 'LongTermMemory' object has no attribute 'create_session'"
     ]
    }
   ],
   "source": [
    "# - Was Mortal Kombat X realeased for Playstation 5?\n",
    "result = agent.invoke(\"Was Mortal Kombat X realeased for Playstation 5?\")\n",
    "print(result.get_final_state()[\"messages\"][-1].content)"
   ]
  },
  {
   "cell_type": "code",
   "execution_count": null,
   "id": "d3e431fa-798e-4bf2-9e3a-09f8714c16e5",
   "metadata": {},
   "outputs": [],
   "source": []
  }
 ],
 "metadata": {
  "kernelspec": {
   "display_name": "Python 3 (ipykernel)",
   "language": "python",
   "name": "python3"
  },
  "language_info": {
   "codemirror_mode": {
    "name": "ipython",
    "version": 3
   },
   "file_extension": ".py",
   "mimetype": "text/x-python",
   "name": "python",
   "nbconvert_exporter": "python",
   "pygments_lexer": "ipython3",
   "version": "3.11.0"
  }
 },
 "nbformat": 4,
 "nbformat_minor": 5
}
