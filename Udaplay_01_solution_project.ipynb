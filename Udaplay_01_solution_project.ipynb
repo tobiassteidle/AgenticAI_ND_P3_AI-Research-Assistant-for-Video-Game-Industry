{
 "cells": [
  {
   "cell_type": "markdown",
   "id": "3ff52effd9aa35ef",
   "metadata": {},
   "source": [
    "# Projekt: Market Research Agent - Phase 1\n",
    "\n",
    "### Criteria\n",
    "Prepare and process a local dataset of video game information for use in a vector database and RAG pipeline.\n",
    "\n",
    "- The processed data is added to a persistent vector database (e.g., ChromaDB) with appropriate embeddings.\n",
    "- The notebook or script demonstrates that the vector database can be queried for semantic search."
   ]
  },
  {
   "cell_type": "code",
   "execution_count": 1,
   "id": "b2298058-137d-4e19-8191-5772d0d4a38f",
   "metadata": {},
   "outputs": [],
   "source": [
    "# Import necessary libraries\n",
    "import os\n",
    "from dotenv import load_dotenv\n",
    "from lib.vector_db import VectorStoreManager, GamesLoaderService"
   ]
  },
  {
   "cell_type": "code",
   "execution_count": 2,
   "id": "2f50928f-60b9-45d1-9695-981f87618f60",
   "metadata": {},
   "outputs": [
    {
     "data": {
      "text/plain": [
       "True"
      ]
     },
     "execution_count": 2,
     "metadata": {},
     "output_type": "execute_result"
    }
   ],
   "source": [
    "# Load environment variables\n",
    "load_dotenv()"
   ]
  },
  {
   "cell_type": "code",
   "execution_count": 3,
   "id": "b63ee1dd-1fd4-4a3e-9a35-cb74e48fe253",
   "metadata": {},
   "outputs": [],
   "source": [
    "# Define API keys\n",
    "OPENAI_API_KEY = os.getenv(\"OPENAI_API_KEY\")\n",
    "TAVILY_API_KEY = os.getenv(\"TAVILY_API_KEY\")"
   ]
  },
  {
   "cell_type": "markdown",
   "id": "f65b8f398be341ad",
   "metadata": {},
   "source": [
    "### Met criteria \"The processed data is added to a persistent vector database (e.g., ChromaDB) with appropriate embeddings.\""
   ]
  },
  {
   "cell_type": "code",
   "execution_count": 4,
   "id": "b6699faea0ae0bfc",
   "metadata": {},
   "outputs": [],
   "source": [
    "# Initialize the vector store manager with OpenAI API key\n",
    "vector_store_manager = VectorStoreManager(openai_api_key=OPENAI_API_KEY)"
   ]
  },
  {
   "cell_type": "code",
   "execution_count": 5,
   "id": "e154d435-b545-4c2c-a007-b2468d501632",
   "metadata": {},
   "outputs": [],
   "source": [
    "# Initialize the GamesLoaderService with the vector store manager\n",
    "games_loader_service = GamesLoaderService(vector_store_manager=vector_store_manager)"
   ]
  },
  {
   "cell_type": "code",
   "execution_count": 6,
   "id": "5640c6c3-7497-4b7c-a66a-f2e27fd6ecb0",
   "metadata": {},
   "outputs": [
    {
     "name": "stdout",
     "output_type": "stream",
     "text": [
      "VectorStore `game_data` ready!\n",
      "GameInfos from `games.json` added!\n"
     ]
    }
   ],
   "source": [
    "# Load the game data from the JSON file into the vector store\n",
    "vector_store = games_loader_service.load_json(store_name=\"game_data\", json_path=\"games.json\")"
   ]
  },
  {
   "cell_type": "code",
   "execution_count": 7,
   "id": "945d8841-ecd9-43b4-8818-ef836e653fcf",
   "metadata": {},
   "outputs": [],
   "source": [
    "# Helper\n",
    "def print_result(result, exepected):\n",
    "  game_found = result['metadatas'][0][0]['title'] == exepected\n",
    "  if game_found:\n",
    "    print(f\"Game found: {result['metadatas'][0][0]['title']} ✅\")\n",
    "  else:\n",
    "    print(f\"Game not found ❌, expected '{exepected}' but got '{result['metadatas'][0][0]['title']}'\")    "
   ]
  },
  {
   "cell_type": "markdown",
   "id": "be4914998eb64a9a",
   "metadata": {},
   "source": [
    "#### Demonstrate that the vector database can be queried for semantic search"
   ]
  },
  {
   "cell_type": "code",
   "execution_count": 8,
   "id": "d5128cb4-192b-44f8-9859-485194417767",
   "metadata": {},
   "outputs": [
    {
     "data": {
      "text/plain": [
       "{'ids': [['8']],\n",
       " 'embeddings': None,\n",
       " 'documents': [[\"Hogwarts Legacy\\nPortkey Games\\n2023-02-10\\n['PC', 'PS5', 'Xbox Series X/S', 'PS4', 'Switch']\\nAction RPG\\nAn open-world action RPG set in the Harry Potter universe, 100 years before the books.\"]],\n",
       " 'uris': None,\n",
       " 'included': ['documents', 'distances', 'metadatas'],\n",
       " 'data': None,\n",
       " 'metadatas': [[{'genre': 'Action RPG',\n",
       "    'release_date': '2023-02-10',\n",
       "    'title': 'Hogwarts Legacy',\n",
       "    'platforms': 'PC,PS5,Xbox Series X/S,PS4,Switch',\n",
       "    'developer': 'Portkey Games'}]],\n",
       " 'distances': [[0.21652083098888397]]}"
      ]
     },
     "execution_count": 8,
     "metadata": {},
     "output_type": "execute_result"
    }
   ],
   "source": [
    "# Query the vector store for a specific game\n",
    "query = \"What is the release date of Hogwarts Legacy?\"\n",
    "results = vector_store.query(query_texts=[query], n_results=1)\n",
    "results"
   ]
  },
  {
   "cell_type": "code",
   "execution_count": 9,
   "id": "c3dc94bb9f22801d",
   "metadata": {},
   "outputs": [
    {
     "name": "stdout",
     "output_type": "stream",
     "text": [
      "Game found: Hogwarts Legacy ✅\n"
     ]
    }
   ],
   "source": [
    "# Check if the game is found in the results by verifying the title\n",
    "print_result(results, \"Hogwarts Legacy\")"
   ]
  },
  {
   "cell_type": "code",
   "execution_count": 14,
   "id": "f864107094f4366a",
   "metadata": {},
   "outputs": [
    {
     "data": {
      "text/plain": [
       "{'ids': [['2']],\n",
       " 'embeddings': None,\n",
       " 'documents': [[\"The Legend of Zelda: Breath of the Wild\\nNintendo EPD\\n2017-03-03\\n['Nintendo Switch', 'Wii U']\\nAction-Adventure\\nAn open-world Zelda game set in the kingdom of Hyrule after a great calamity.\"]],\n",
       " 'uris': None,\n",
       " 'included': ['documents', 'distances', 'metadatas'],\n",
       " 'data': None,\n",
       " 'metadatas': [[{'genre': 'Action-Adventure',\n",
       "    'title': 'The Legend of Zelda: Breath of the Wild',\n",
       "    'developer': 'Nintendo EPD',\n",
       "    'release_date': '2017-03-03',\n",
       "    'platforms': 'Nintendo Switch,Wii U'}]],\n",
       " 'distances': [[0.39781779050827026]]}"
      ]
     },
     "execution_count": 14,
     "metadata": {},
     "output_type": "execute_result"
    }
   ],
   "source": [
    "# Query the vector store for a game that is not in the dataset\n",
    "query_not_found = \"What is the release date of Mario Cart?\"\n",
    "results_not_found = vector_store.query(query_texts=[query_not_found], n_results=1)\n",
    "results_not_found"
   ]
  },
  {
   "cell_type": "code",
   "execution_count": 17,
   "id": "393edc41-5bbe-4248-80b5-3006ff974d19",
   "metadata": {
    "ExecuteTime": {
     "end_time": "2025-07-13T09:05:11.834190Z",
     "start_time": "2025-07-13T09:05:11.830701Z"
    }
   },
   "outputs": [
    {
     "name": "stdout",
     "output_type": "stream",
     "text": [
      "Game not found ❌, expected 'Splinter Cell' but got 'The Legend of Zelda: Breath of the Wild'\n"
     ]
    }
   ],
   "source": [
    "# Check if the game is found in the results by verifying the title\n",
    "print_result(results_not_found, \"Mario Cart\")"
   ]
  },
  {
   "cell_type": "code",
   "execution_count": null,
   "id": "e022670c-bb37-4537-9717-b91728d4464c",
   "metadata": {},
   "outputs": [],
   "source": []
  }
 ],
 "metadata": {
  "kernelspec": {
   "display_name": "Python 3 (ipykernel)",
   "language": "python",
   "name": "python3"
  },
  "language_info": {
   "codemirror_mode": {
    "name": "ipython",
    "version": 3
   },
   "file_extension": ".py",
   "mimetype": "text/x-python",
   "name": "python",
   "nbconvert_exporter": "python",
   "pygments_lexer": "ipython3",
   "version": "3.11.0"
  }
 },
 "nbformat": 4,
 "nbformat_minor": 5
}
