{
 "cells": [
  {
   "cell_type": "markdown",
   "id": "6fdd0bcb",
   "metadata": {},
   "source": [
    "# [Solution] Udaplay Project"
   ]
  },
  {
   "cell_type": "markdown",
   "id": "9325b035",
   "metadata": {},
   "source": [
    "## Part 01 - Offline RAG\n",
    "\n",
    "In this part of the project, you'll build your VectorDB using Chroma.\n",
    "\n",
    "The data is inside folder `project/games`. Each file will become a document in the collection you'll create.\n",
    "Example.:\n",
    "```json\n",
    "{\n",
    "  \"Name\": \"Gran Turismo\",\n",
    "  \"Platform\": \"PlayStation 1\",\n",
    "  \"Genre\": \"Racing\",\n",
    "  \"Publisher\": \"Sony Computer Entertainment\",\n",
    "  \"Description\": \"A realistic racing simulator featuring a wide array of cars and tracks, setting a new standard for the genre.\",\n",
    "  \"YearOfRelease\": 1997\n",
    "}\n",
    "```\n"
   ]
  },
  {
   "cell_type": "markdown",
   "id": "2b42de90",
   "metadata": {},
   "source": [
    "### Setup"
   ]
  },
  {
   "cell_type": "code",
   "execution_count": null,
   "id": "61283b25",
   "metadata": {},
   "outputs": [],
   "source": [
    "# Only needed for Udacity workspace\n",
    "\n",
    "import importlib.util\n",
    "import sys\n",
    "\n",
    "# Check if 'pysqlite3' is available before importing\n",
    "if importlib.util.find_spec(\"pysqlite3\") is not None:\n",
    "    import pysqlite3\n",
    "    sys.modules['sqlite3'] = sys.modules.pop('pysqlite3')"
   ]
  },
  {
   "cell_type": "code",
   "execution_count": null,
   "id": "a8d56169",
   "metadata": {},
   "outputs": [],
   "source": [
    "import os\n",
    "import json\n",
    "import chromadb\n",
    "from chromadb.utils import embedding_functions\n",
    "from dotenv import load_dotenv"
   ]
  },
  {
   "cell_type": "code",
   "execution_count": null,
   "id": "fd10c06e",
   "metadata": {},
   "outputs": [],
   "source": [
    "# TODO: Create a .env file with the following variables\n",
    "# OPENAI_API_KEY=\"YOUR_KEY\"\n",
    "# CHROMA_OPENAI_API_KEY=\"YOUR_KEY\"\n",
    "# TAVILY_API_KEY=\"YOUR_KEY\""
   ]
  },
  {
   "cell_type": "code",
   "execution_count": null,
   "id": "87e465d4",
   "metadata": {},
   "outputs": [],
   "source": [
    "# TODO: Load environment variables\n",
    "load_dotenv()"
   ]
  },
  {
   "cell_type": "markdown",
   "id": "27de4729",
   "metadata": {},
   "source": [
    "### VectorDB Instance"
   ]
  },
  {
   "cell_type": "code",
   "execution_count": null,
   "id": "b25c36dd",
   "metadata": {},
   "outputs": [],
   "source": [
    "# TODO: Instantiate your ChromaDB Client\n",
    "# Choose any path you want\n",
    "chroma_client = chromadb.PersistentClient(path=\"chromadb\")"
   ]
  },
  {
   "cell_type": "markdown",
   "id": "df844b3b",
   "metadata": {},
   "source": [
    "### Collection"
   ]
  },
  {
   "cell_type": "code",
   "execution_count": null,
   "id": "31c56281",
   "metadata": {},
   "outputs": [],
   "source": [
    "# TODO: Pick one embedding function\n",
    "# If picking something different than openai,\n",
    "# make sure you use the same when loading it\n",
    "embedding_fn = embedding_functions.OpenAIEmbeddingFunction(\n",
    "    api_key=os.getenv(\"OPENAI_API_KEY\"),\n",
    "    api_base=\"https://openai.vocareum.com/v1\"\n",
    ")"
   ]
  },
  {
   "cell_type": "code",
   "execution_count": null,
   "id": "0ec23893",
   "metadata": {},
   "outputs": [],
   "source": [
    "# TODO: Create a collection\n",
    "# Choose any name you want\n",
    "collection = chroma_client.create_collection(\n",
    "    name=\"udaplay\",\n",
    "    embedding_function=embedding_fn\n",
    ")"
   ]
  },
  {
   "cell_type": "markdown",
   "id": "f0a55081",
   "metadata": {},
   "source": [
    "### Add documents"
   ]
  },
  {
   "cell_type": "code",
   "execution_count": null,
   "id": "eb83fbb1",
   "metadata": {},
   "outputs": [],
   "source": [
    "# Make sure you have a directory \"project/starter/games\"\n",
    "data_dir = \"games\"\n",
    "\n",
    "for file_name in sorted(os.listdir(data_dir)):\n",
    "    if not file_name.endswith(\".json\"):\n",
    "        continue\n",
    "\n",
    "    file_path = os.path.join(data_dir, file_name)\n",
    "    with open(file_path, \"r\", encoding=\"utf-8\") as f:\n",
    "        game = json.load(f)\n",
    "\n",
    "    # You can change what text you want to index\n",
    "    content = f\"\"\"Platform: [{game['Platform']}]\n",
    "Genre: {game['Genre']}\n",
    "Name: {game['Name']}\n",
    "Release Date: ({game['YearOfRelease']})\n",
    "Publisher: {game['Publisher']}\n",
    "Description: {game['Description']}\n",
    "    \"\"\"\n",
    "\n",
    "    # Use file name (like 001) as ID\n",
    "    doc_id = os.path.splitext(file_name)[0]\n",
    "\n",
    "    collection.add(\n",
    "        ids=[doc_id],\n",
    "        documents=[content],\n",
    "        metadatas=[game]\n",
    "    )"
   ]
  },
  {
   "cell_type": "code",
   "execution_count": null,
   "id": "8489e37c-8e61-4bb8-b0b5-f272ea581fa5",
   "metadata": {},
   "outputs": [],
   "source": []
  }
 ],
 "metadata": {
  "kernelspec": {
   "display_name": "Python 3 (ipykernel)",
   "language": "python",
   "name": "python3"
  },
  "language_info": {
   "codemirror_mode": {
    "name": "ipython",
    "version": 3
   },
   "file_extension": ".py",
   "mimetype": "text/x-python",
   "name": "python",
   "nbconvert_exporter": "python",
   "pygments_lexer": "ipython3",
   "version": "3.11.0"
  }
 },
 "nbformat": 4,
 "nbformat_minor": 5
}
