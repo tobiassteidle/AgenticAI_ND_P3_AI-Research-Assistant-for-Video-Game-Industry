{
 "cells": [
  {
   "cell_type": "markdown",
   "id": "6fdd0bcb",
   "metadata": {},
   "source": [
    "# [Solution] Udaplay Project"
   ]
  },
  {
   "cell_type": "markdown",
   "id": "9325b035",
   "metadata": {},
   "source": [
    "## Part 01 - Offline RAG\n",
    "\n",
    "In this part of the project, you'll build your VectorDB using Chroma.\n",
    "\n",
    "The data is inside folder `project/games`. Each file will become a document in the collection you'll create.\n",
    "Example.:\n",
    "```json\n",
    "{\n",
    "  \"Name\": \"Gran Turismo\",\n",
    "  \"Platform\": \"PlayStation 1\",\n",
    "  \"Genre\": \"Racing\",\n",
    "  \"Publisher\": \"Sony Computer Entertainment\",\n",
    "  \"Description\": \"A realistic racing simulator featuring a wide array of cars and tracks, setting a new standard for the genre.\",\n",
    "  \"YearOfRelease\": 1997\n",
    "}\n",
    "```\n"
   ]
  },
  {
   "cell_type": "markdown",
   "id": "2b42de90",
   "metadata": {},
   "source": [
    "### Setup"
   ]
  },
  {
   "cell_type": "code",
   "execution_count": 1,
   "id": "61283b25",
   "metadata": {},
   "outputs": [],
   "source": [
    "# Only needed for Udacity workspace\n",
    "\n",
    "import importlib.util\n",
    "import sys\n",
    "\n",
    "# Check if 'pysqlite3' is available before importing\n",
    "if importlib.util.find_spec(\"pysqlite3\") is not None:\n",
    "    import pysqlite3\n",
    "    sys.modules['sqlite3'] = sys.modules.pop('pysqlite3')"
   ]
  },
  {
   "cell_type": "code",
   "execution_count": 2,
   "id": "a8d56169",
   "metadata": {},
   "outputs": [],
   "source": [
    "import os\n",
    "import json\n",
    "import chromadb\n",
    "from chromadb.utils import embedding_functions\n",
    "from dotenv import load_dotenv"
   ]
  },
  {
   "cell_type": "code",
   "execution_count": 3,
   "id": "fd10c06e",
   "metadata": {},
   "outputs": [],
   "source": [
    "# TODO: Create a .env file with the following variables\n",
    "# OPENAI_API_KEY=\"YOUR_KEY\"\n",
    "# CHROMA_OPENAI_API_KEY=\"YOUR_KEY\"\n",
    "# TAVILY_API_KEY=\"YOUR_KEY\""
   ]
  },
  {
   "cell_type": "code",
   "execution_count": 4,
   "id": "87e465d4",
   "metadata": {},
   "outputs": [
    {
     "data": {
      "text/plain": [
       "True"
      ]
     },
     "execution_count": 4,
     "metadata": {},
     "output_type": "execute_result"
    }
   ],
   "source": [
    "# TODO: Load environment variables\n",
    "load_dotenv()"
   ]
  },
  {
   "cell_type": "markdown",
   "id": "27de4729",
   "metadata": {},
   "source": [
    "### VectorDB Instance"
   ]
  },
  {
   "cell_type": "code",
   "execution_count": 5,
   "id": "b25c36dd",
   "metadata": {},
   "outputs": [],
   "source": [
    "# TODO: Instantiate your ChromaDB Client\n",
    "# Choose any path you want\n",
    "chroma_client = chromadb.PersistentClient(path=\"chromadb\")"
   ]
  },
  {
   "cell_type": "markdown",
   "id": "df844b3b",
   "metadata": {},
   "source": [
    "### Collection"
   ]
  },
  {
   "cell_type": "code",
   "execution_count": 6,
   "id": "31c56281",
   "metadata": {},
   "outputs": [],
   "source": [
    "# TODO: Pick one embedding function\n",
    "# If picking something different than openai,\n",
    "# make sure you use the same when loading it\n",
    "embedding_fn = embedding_functions.OpenAIEmbeddingFunction(\n",
    "    api_key=os.getenv(\"OPENAI_API_KEY\"),\n",
    "    api_base=\"https://openai.vocareum.com/v1\"\n",
    ")"
   ]
  },
  {
   "cell_type": "code",
   "execution_count": 7,
   "id": "0ec23893",
   "metadata": {},
   "outputs": [
    {
     "name": "stdout",
     "output_type": "stream",
     "text": [
      "Loaded collection udaplay.\n"
     ]
    }
   ],
   "source": [
    "# TODO: Create a collection\n",
    "# Choose any name you want\n",
    "COLLECTION_NAME = \"udaplay\"\n",
    "collection_created = False\n",
    "\n",
    "try:\n",
    "    collection = chroma_client.get_collection(COLLECTION_NAME)\n",
    "    print(f\"Loaded collection {COLLECTION_NAME}.\")\n",
    "except:\n",
    "    collection = chroma_client.create_collection(name=COLLECTION_NAME, embedding_function=embedding_fn)\n",
    "    collection_created = True\n",
    "    print(f\"Created collection {COLLECTION_NAME}.\")"
   ]
  },
  {
   "cell_type": "markdown",
   "id": "f0a55081",
   "metadata": {},
   "source": [
    "### Add documents"
   ]
  },
  {
   "cell_type": "code",
   "execution_count": 8,
   "id": "eb83fbb1",
   "metadata": {},
   "outputs": [
    {
     "name": "stdout",
     "output_type": "stream",
     "text": [
      "Collection udaplay already exists, skip adding documents.\n"
     ]
    }
   ],
   "source": [
    "# Make sure you have a directory \"project/starter/games\"\n",
    "if collection_created:\n",
    "    data_dir = \"games\"\n",
    "\n",
    "    for file_name in sorted(os.listdir(data_dir)):\n",
    "        if not file_name.endswith(\".json\"):\n",
    "            continue\n",
    "\n",
    "        file_path = os.path.join(data_dir, file_name)\n",
    "        with open(file_path, \"r\", encoding=\"utf-8\") as f:\n",
    "            game = json.load(f)\n",
    "\n",
    "        # You can change what text you want to index\n",
    "        content = f\"\"\"Platform: [{game['Platform']}]\n",
    "    Genre: {game['Genre']}\n",
    "    Name: {game['Name']}\n",
    "    Release Date: ({game['YearOfRelease']})\n",
    "    Publisher: {game['Publisher']}\n",
    "    Description: {game['Description']}\n",
    "        \"\"\"\n",
    "\n",
    "        # Use file name (like 001) as ID\n",
    "        doc_id = os.path.splitext(file_name)[0]\n",
    "\n",
    "        collection.add(\n",
    "            ids=[doc_id],\n",
    "            documents=[content],\n",
    "            metadatas=[game]\n",
    "        )\n",
    "    print(f\"Added documents to collection {COLLECTION_NAME}\")\n",
    "else:\n",
    "    print(f\"Collection {COLLECTION_NAME} already exists, skip adding documents.\")"
   ]
  },
  {
   "cell_type": "markdown",
   "id": "61af73d0-a1c9-4180-a420-794bf3e26fa9",
   "metadata": {},
   "source": [
    "### Execute a semantic search on the DB\n",
    "Search for a game in the vector DB using a query."
   ]
  },
  {
   "cell_type": "code",
   "execution_count": 9,
   "id": "4f14258e-505f-45d3-9e77-07d10d9aecb5",
   "metadata": {},
   "outputs": [
    {
     "data": {
      "text/plain": [
       "{'ids': [['009', '008', '012']],\n",
       " 'embeddings': None,\n",
       " 'documents': [[\"Platform: [Nintendo 64]\\n    Genre: Platformer\\n    Name: Super Mario 64\\n    Release Date: (1996)\\n    Publisher: Nintendo\\n    Description: A groundbreaking 3D platformer that set new standards for the genre, featuring Mario's quest to rescue Princess Peach.\\n        \",\n",
       "   'Platform: [Super Nintendo Entertainment System (SNES)]\\n    Genre: Platformer\\n    Name: Super Mario World\\n    Release Date: (1990)\\n    Publisher: Nintendo\\n    Description: A classic platformer where Mario embarks on a quest to save Princess Toadstool and Dinosaur Land from Bowser.\\n        ',\n",
       "   'Platform: [Nintendo Switch]\\n    Genre: Racing\\n    Name: Mario Kart 8 Deluxe\\n    Release Date: (2017)\\n    Publisher: Nintendo\\n    Description: An enhanced version of Mario Kart 8, featuring new characters, tracks, and improved gameplay mechanics.\\n        ']],\n",
       " 'uris': None,\n",
       " 'included': ['metadatas', 'documents', 'distances'],\n",
       " 'data': None,\n",
       " 'metadatas': [[{'Platform': 'Nintendo 64',\n",
       "    'Name': 'Super Mario 64',\n",
       "    'Publisher': 'Nintendo',\n",
       "    'YearOfRelease': 1996,\n",
       "    'Description': \"A groundbreaking 3D platformer that set new standards for the genre, featuring Mario's quest to rescue Princess Peach.\",\n",
       "    'Genre': 'Platformer'},\n",
       "   {'Name': 'Super Mario World',\n",
       "    'Platform': 'Super Nintendo Entertainment System (SNES)',\n",
       "    'YearOfRelease': 1990,\n",
       "    'Description': 'A classic platformer where Mario embarks on a quest to save Princess Toadstool and Dinosaur Land from Bowser.',\n",
       "    'Genre': 'Platformer',\n",
       "    'Publisher': 'Nintendo'},\n",
       "   {'Genre': 'Racing',\n",
       "    'Platform': 'Nintendo Switch',\n",
       "    'Name': 'Mario Kart 8 Deluxe',\n",
       "    'Publisher': 'Nintendo',\n",
       "    'YearOfRelease': 2017,\n",
       "    'Description': 'An enhanced version of Mario Kart 8, featuring new characters, tracks, and improved gameplay mechanics.'}]],\n",
       " 'distances': [[0.3106148838996887, 0.3110330402851105, 0.3675331175327301]]}"
      ]
     },
     "execution_count": 9,
     "metadata": {},
     "output_type": "execute_result"
    }
   ],
   "source": [
    "query_texts = [\"Super Mario\"]\n",
    "\n",
    "results = collection.query(query_texts=query_texts, n_results=3)\n",
    "results"
   ]
  },
  {
   "cell_type": "code",
   "execution_count": null,
   "id": "a83b8b71-9fd0-4d9d-8563-6e1038422696",
   "metadata": {},
   "outputs": [],
   "source": []
  }
 ],
 "metadata": {
  "kernelspec": {
   "display_name": "Python 3 (ipykernel)",
   "language": "python",
   "name": "python3"
  },
  "language_info": {
   "codemirror_mode": {
    "name": "ipython",
    "version": 3
   },
   "file_extension": ".py",
   "mimetype": "text/x-python",
   "name": "python",
   "nbconvert_exporter": "python",
   "pygments_lexer": "ipython3",
   "version": "3.11.0"
  }
 },
 "nbformat": 4,
 "nbformat_minor": 5
}
